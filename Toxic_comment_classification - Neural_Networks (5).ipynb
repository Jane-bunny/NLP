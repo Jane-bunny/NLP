{
  "nbformat": 4,
  "nbformat_minor": 0,
  "metadata": {
    "colab": {
      "provenance": []
    },
    "kernelspec": {
      "name": "python3",
      "display_name": "Python 3"
    },
    "language_info": {
      "name": "python"
    }
  },
  "cells": [
    {
      "cell_type": "markdown",
      "source": [
        "**Toxic Comment Classification -Neural Networks**\n",
        "- Loading data\n",
        "- Processing data\n",
        "- Word-embedding BiLSTM & GRU model:\n",
        "  - Creating word embeddings\n",
        "  - Building the model\n",
        "  - Fitting the model on training data\n",
        "  - Evaluation of the model using the test data for both BiLSTM and GRU models\n",
        "- TF-IDF simple Feedforward model\n",
        "  - Vectorize the data\n",
        "  - Building simple feed_forward neural networds with adam and rmsprop optimiser\n",
        "  - Training the model\n",
        "  - Evaluation of the model"
      ],
      "metadata": {
        "id": "NvotEYsdzJTi"
      }
    },
    {
      "cell_type": "markdown",
      "source": [
        "**Loading data**"
      ],
      "metadata": {
        "id": "JELCdqt0vT2y"
      }
    },
    {
      "cell_type": "code",
      "execution_count": null,
      "metadata": {
        "id": "HSJJIR8lrJCE"
      },
      "outputs": [],
      "source": [
        "# Import the libraries\n",
        "import pandas as pd\n",
        "import numpy as np\n",
        "import tensorflow as tf\n",
        "from sklearn.model_selection import train_test_split\n",
        "from tensorflow.keras.preprocessing.sequence import pad_sequences\n",
        "from tensorflow.keras.preprocessing.text import Tokenizer\n",
        "from tensorflow.keras.models import Sequential\n",
        "from keras.losses import binary_crossentropy\n",
        "from tensorflow.keras.layers import Dense, Input, LSTM, Embedding, Dropout, Activation, Bidirectional\n",
        "from tensorflow.keras.regularizers import l2\n",
        "import matplotlib.pyplot as plt\n",
        "from sklearn.metrics import precision_score, recall_score, f1_score\n",
        "from tensorflow.keras.optimizers import Adam, SGD, RMSprop\n",
        "from tensorflow.keras.layers import GRU\n",
        "from sklearn.feature_extraction.text import TfidfVectorizer"
      ]
    },
    {
      "cell_type": "code",
      "source": [
        "# load both training and test datasets\n",
        "train = pd.read_csv('ready_train.csv')\n",
        "test = pd.read_csv('ready_test.csv')"
      ],
      "metadata": {
        "id": "i8zGsazPrk9M"
      },
      "execution_count": null,
      "outputs": []
    },
    {
      "cell_type": "markdown",
      "source": [
        "**Processing data and creating word embeddings**"
      ],
      "metadata": {
        "id": "FV1R5zxIvaXC"
      }
    },
    {
      "cell_type": "code",
      "source": [
        "# Separate feature and labels\n",
        "X = train['lemmas']\n",
        "y = train[['toxic', 'severe_toxic', 'obscene', 'threat', 'insult', 'identity_hate']]\n",
        "X_test = test['lemmas']\n",
        "y_test = test[['toxic', 'severe_toxic', 'obscene', 'threat', 'insult', 'identity_hate']]"
      ],
      "metadata": {
        "id": "_tToCSbermti"
      },
      "execution_count": null,
      "outputs": []
    },
    {
      "cell_type": "code",
      "source": [
        "# Define the embedding criteria\n",
        "word_vector = 100 # size of the word vector\n",
        "max_features = 6000 # number of unique words\n",
        "maxlen = 100 # max number of words in one comment\n",
        "tokenizer = Tokenizer(num_words=max_features)\n",
        "tokenizer.fit_on_texts(X)\n",
        "\n",
        "# Covert train and test data into numerial sequence\n",
        "X_train_sequence = tokenizer.texts_to_sequences(X)\n",
        "X_test_sequence = tokenizer.texts_to_sequences(X_test)\n",
        "# Padding sequence to make all sequence have the same shape\n",
        "X_train = pad_sequences(X_train_sequence, maxlen=maxlen)\n",
        "X_test = pad_sequences(X_test_sequence, maxlen=maxlen)\n",
        "word_index = tokenizer.word_index"
      ],
      "metadata": {
        "id": "hgiNvJ4mrolH"
      },
      "execution_count": null,
      "outputs": []
    },
    {
      "cell_type": "code",
      "source": [
        "# Get GloVe embeddings\n",
        "def get_coefs(word,*arr):\n",
        "    return word, np.asarray(arr, dtype='float32')\n",
        "\n",
        "EMBEDDING_FILE='glove.6B.100d.txt'\n",
        "embeddings_index = dict(get_coefs(*o.strip().split()) for o in open(EMBEDDING_FILE, encoding=\"utf8\"))\n",
        "\n",
        "all_embs = list(embeddings_index.values())\n",
        "emb_mean, emb_std = np.mean(all_embs), np.std(all_embs)\n",
        "emb_mean, emb_std\n",
        "\n",
        "word_index = tokenizer.word_index\n",
        "\n",
        "nb_words = min(max_features, len(word_index))\n",
        "embedding_matrix = np.random.normal(emb_mean, emb_std, (nb_words, word_vector))\n",
        "\n",
        "for word, i in word_index.items():\n",
        "    if i >= max_features:\n",
        "        continue\n",
        "    embedding_vector = embeddings_index.get(word)\n",
        "    if embedding_vector is not None:\n",
        "        embedding_matrix[i] = embedding_vector"
      ],
      "metadata": {
        "id": "ON13Z3rtrq1Y"
      },
      "execution_count": null,
      "outputs": []
    },
    {
      "cell_type": "code",
      "source": [
        "# Check embedding shap\n",
        "embedding_matrix.shape"
      ],
      "metadata": {
        "colab": {
          "base_uri": "https://localhost:8080/"
        },
        "id": "sgMUSwlw_EDS",
        "outputId": "64809867-ae2e-47d8-c6ff-f8587484801d"
      },
      "execution_count": null,
      "outputs": [
        {
          "output_type": "execute_result",
          "data": {
            "text/plain": [
              "(6000, 100)"
            ]
          },
          "metadata": {},
          "execution_count": 6
        }
      ]
    },
    {
      "cell_type": "markdown",
      "source": [
        "**Define, train, and evaluate BiLSTM with different optimizers**"
      ],
      "metadata": {
        "id": "dVX7mwC0vpir"
      }
    },
    {
      "cell_type": "code",
      "source": [
        "# Learning Rate Scheduling\n",
        "learning_rate = 0.000001\n",
        "adam_epsilon = 1e-7\n",
        "\n",
        "lr_schedule = tf.keras.optimizers.schedules.ExponentialDecay(\n",
        "    initial_learning_rate=learning_rate,\n",
        "    decay_steps=1000,\n",
        "    decay_rate=0.95,\n",
        "    staircase=True\n",
        ")"
      ],
      "metadata": {
        "id": "AuPrx9nj8T0R"
      },
      "execution_count": null,
      "outputs": []
    },
    {
      "cell_type": "code",
      "source": [
        "def train_model(optimizer, X_train, y, validation_split=0.2, batch_size=64, epochs=10):\n",
        "    # Create a new instance of the model\n",
        "    model = Sequential()\n",
        "    model.add(Embedding(max_features, word_vector, weights=[embedding_matrix]))\n",
        "    model.add(Dropout(0.5))\n",
        "    model.add(Bidirectional(LSTM(word_vector, return_sequences=True)))\n",
        "    model.add(Dropout(0.5))\n",
        "    model.add(Bidirectional(LSTM(word_vector)))\n",
        "    model.add(Dropout(0.5))\n",
        "    model.add(Dense(6, activation='sigmoid', kernel_regularizer=l2(0.01)))\n",
        "\n",
        "    # Compile the model\n",
        "    model.compile(\n",
        "        loss='binary_crossentropy',\n",
        "        optimizer=optimizer,\n",
        "        metrics=['accuracy']\n",
        "    )\n",
        "\n",
        "    # Train the model\n",
        "    history = model.fit(X_train, y, batch_size=batch_size, epochs=epochs, validation_split=0.2, shuffle=True)\n",
        "\n",
        "    return model, history"
      ],
      "metadata": {
        "id": "kRZZybwU81Vv"
      },
      "execution_count": null,
      "outputs": []
    },
    {
      "cell_type": "code",
      "source": [
        "# Train model with Adam optimizer\n",
        "adam_model, adam_history = train_model(Adam(learning_rate=lr_schedule, epsilon=adam_epsilon), X_train, y)"
      ],
      "metadata": {
        "colab": {
          "base_uri": "https://localhost:8080/"
        },
        "id": "Gwx-fV_t860e",
        "outputId": "02296041-1ade-4f91-eac5-27450050f6eb"
      },
      "execution_count": null,
      "outputs": [
        {
          "output_type": "stream",
          "name": "stdout",
          "text": [
            "Epoch 1/10\n",
            "406/406 [==============================] - 49s 103ms/step - loss: 0.7386 - accuracy: 0.3836 - val_loss: 0.6776 - val_accuracy: 0.8983\n",
            "Epoch 2/10\n",
            "406/406 [==============================] - 19s 46ms/step - loss: 0.6656 - accuracy: 0.6064 - val_loss: 0.6066 - val_accuracy: 0.9419\n",
            "Epoch 3/10\n",
            "406/406 [==============================] - 14s 35ms/step - loss: 0.6088 - accuracy: 0.7284 - val_loss: 0.5588 - val_accuracy: 0.9445\n",
            "Epoch 4/10\n",
            "406/406 [==============================] - 14s 33ms/step - loss: 0.5697 - accuracy: 0.7893 - val_loss: 0.5308 - val_accuracy: 0.9462\n",
            "Epoch 5/10\n",
            "406/406 [==============================] - 17s 43ms/step - loss: 0.5463 - accuracy: 0.8163 - val_loss: 0.5155 - val_accuracy: 0.9481\n",
            "Epoch 6/10\n",
            "406/406 [==============================] - 20s 49ms/step - loss: 0.5326 - accuracy: 0.8223 - val_loss: 0.5071 - val_accuracy: 0.9493\n",
            "Epoch 7/10\n",
            "406/406 [==============================] - 12s 29ms/step - loss: 0.5259 - accuracy: 0.8151 - val_loss: 0.5017 - val_accuracy: 0.9516\n",
            "Epoch 8/10\n",
            "406/406 [==============================] - 11s 27ms/step - loss: 0.5206 - accuracy: 0.8146 - val_loss: 0.4979 - val_accuracy: 0.9529\n",
            "Epoch 9/10\n",
            "406/406 [==============================] - 11s 26ms/step - loss: 0.5175 - accuracy: 0.8094 - val_loss: 0.4950 - val_accuracy: 0.9544\n",
            "Epoch 10/10\n",
            "406/406 [==============================] - 12s 29ms/step - loss: 0.5145 - accuracy: 0.8082 - val_loss: 0.4925 - val_accuracy: 0.9556\n"
          ]
        }
      ]
    },
    {
      "cell_type": "code",
      "source": [
        "# Train model with SGD optimizer\n",
        "sgd_model, sgd_history = train_model(optimizer='sgd', X_train=X_train, y=y)"
      ],
      "metadata": {
        "colab": {
          "base_uri": "https://localhost:8080/"
        },
        "id": "ItgSErs6G6OX",
        "outputId": "0efef836-99be-40d2-af10-05d3a6769833"
      },
      "execution_count": null,
      "outputs": [
        {
          "output_type": "stream",
          "name": "stdout",
          "text": [
            "Epoch 1/10\n",
            "406/406 [==============================] - 39s 83ms/step - loss: 0.5880 - accuracy: 0.8098 - val_loss: 0.5067 - val_accuracy: 0.9693\n",
            "Epoch 2/10\n",
            "406/406 [==============================] - 18s 46ms/step - loss: 0.5053 - accuracy: 0.9429 - val_loss: 0.4803 - val_accuracy: 0.9707\n",
            "Epoch 3/10\n",
            "406/406 [==============================] - 13s 32ms/step - loss: 0.4832 - accuracy: 0.9501 - val_loss: 0.4636 - val_accuracy: 0.9715\n",
            "Epoch 4/10\n",
            "406/406 [==============================] - 12s 30ms/step - loss: 0.4679 - accuracy: 0.9577 - val_loss: 0.4502 - val_accuracy: 0.9716\n",
            "Epoch 5/10\n",
            "406/406 [==============================] - 12s 30ms/step - loss: 0.4550 - accuracy: 0.9621 - val_loss: 0.4392 - val_accuracy: 0.9718\n",
            "Epoch 6/10\n",
            "406/406 [==============================] - 12s 28ms/step - loss: 0.4446 - accuracy: 0.9669 - val_loss: 0.4298 - val_accuracy: 0.9723\n",
            "Epoch 7/10\n",
            "406/406 [==============================] - 10s 25ms/step - loss: 0.4356 - accuracy: 0.9685 - val_loss: 0.4219 - val_accuracy: 0.9723\n",
            "Epoch 8/10\n",
            "406/406 [==============================] - 12s 29ms/step - loss: 0.4274 - accuracy: 0.9702 - val_loss: 0.4153 - val_accuracy: 0.9723\n",
            "Epoch 9/10\n",
            "406/406 [==============================] - 11s 27ms/step - loss: 0.4214 - accuracy: 0.9705 - val_loss: 0.4096 - val_accuracy: 0.9723\n",
            "Epoch 10/10\n",
            "406/406 [==============================] - 11s 26ms/step - loss: 0.4160 - accuracy: 0.9709 - val_loss: 0.4047 - val_accuracy: 0.9723\n"
          ]
        }
      ]
    },
    {
      "cell_type": "code",
      "source": [
        "# Train model with RMSprop optimizer\n",
        "rmsprop_model, rmsprop_history = train_model(optimizer='rmsprop', X_train=X_train, y=y)"
      ],
      "metadata": {
        "colab": {
          "base_uri": "https://localhost:8080/"
        },
        "id": "ryI12DtAHROa",
        "outputId": "a3b1e9f9-b239-4b68-eb6d-135c093571a2"
      },
      "execution_count": null,
      "outputs": [
        {
          "output_type": "stream",
          "name": "stdout",
          "text": [
            "Epoch 1/10\n",
            "406/406 [==============================] - 67s 140ms/step - loss: 0.3739 - accuracy: 0.9432 - val_loss: 0.2895 - val_accuracy: 0.9718\n",
            "Epoch 2/10\n",
            "406/406 [==============================] - 23s 57ms/step - loss: 0.2890 - accuracy: 0.9707 - val_loss: 0.2556 - val_accuracy: 0.9720\n",
            "Epoch 3/10\n",
            "406/406 [==============================] - 15s 38ms/step - loss: 0.2638 - accuracy: 0.9708 - val_loss: 0.2363 - val_accuracy: 0.9723\n",
            "Epoch 4/10\n",
            "406/406 [==============================] - 14s 35ms/step - loss: 0.2498 - accuracy: 0.9710 - val_loss: 0.2319 - val_accuracy: 0.9721\n",
            "Epoch 5/10\n",
            "406/406 [==============================] - 13s 31ms/step - loss: 0.2408 - accuracy: 0.9710 - val_loss: 0.2210 - val_accuracy: 0.9721\n",
            "Epoch 6/10\n",
            "406/406 [==============================] - 11s 28ms/step - loss: 0.2359 - accuracy: 0.9709 - val_loss: 0.2212 - val_accuracy: 0.9721\n",
            "Epoch 7/10\n",
            "406/406 [==============================] - 12s 30ms/step - loss: 0.2301 - accuracy: 0.9706 - val_loss: 0.2220 - val_accuracy: 0.9721\n",
            "Epoch 8/10\n",
            "406/406 [==============================] - 12s 30ms/step - loss: 0.2270 - accuracy: 0.9706 - val_loss: 0.2165 - val_accuracy: 0.9720\n",
            "Epoch 9/10\n",
            "406/406 [==============================] - 12s 29ms/step - loss: 0.2237 - accuracy: 0.9707 - val_loss: 0.2143 - val_accuracy: 0.9723\n",
            "Epoch 10/10\n",
            "406/406 [==============================] - 10s 25ms/step - loss: 0.2210 - accuracy: 0.9708 - val_loss: 0.2123 - val_accuracy: 0.9723\n"
          ]
        }
      ]
    },
    {
      "cell_type": "code",
      "source": [
        "# Plot training & validation loss for all three models\n",
        "plt.figure(figsize=(12, 6))\n",
        "plt.subplot(1, 2, 1)\n",
        "plt.plot(adam_history.history['loss'], label='Adam Train', color='blue')\n",
        "plt.plot(adam_history.history['val_loss'], label='Adam Validation', color='skyblue')\n",
        "plt.plot(sgd_history.history['loss'], label='SGD Train', color='green')\n",
        "plt.plot(sgd_history.history['val_loss'], label='SGD Validation', color='lightgreen')\n",
        "plt.plot(rmsprop_history.history['loss'], label='RMSprop Train', color='red')\n",
        "plt.plot(rmsprop_history.history['val_loss'], label='RMSprop Validation', color='salmon')\n",
        "plt.title('Model Loss')\n",
        "plt.xlabel('Epoch')\n",
        "plt.ylabel('Loss')\n",
        "plt.legend()\n",
        "\n",
        "# Plot training & validation accuracy for all three models\n",
        "plt.subplot(1, 2, 2)\n",
        "plt.plot(adam_history.history['accuracy'], label='Adam Train', color='blue')\n",
        "plt.plot(adam_history.history['val_accuracy'], label='Adam Validation', color='skyblue')\n",
        "plt.plot(sgd_history.history['accuracy'], label='SGD Train', color='green')\n",
        "plt.plot(sgd_history.history['val_accuracy'], label='SGD Validation', color='lightgreen')\n",
        "plt.plot(rmsprop_history.history['accuracy'], label='RMSprop Train', color='red')\n",
        "plt.plot(rmsprop_history.history['val_accuracy'], label='RMSprop Validation', color='salmon')\n",
        "plt.title('Model Accuracy')\n",
        "plt.xlabel('Epoch')\n",
        "plt.ylabel('Accuracy')\n",
        "plt.legend()\n",
        "\n",
        "plt.tight_layout()\n",
        "plt.show()"
      ],
      "metadata": {
        "colab": {
          "base_uri": "https://localhost:8080/",
          "height": 564
        },
        "id": "GNdURbYRHYLa",
        "outputId": "6ba04d9b-4fec-4d90-c028-51552b91e5cd"
      },
      "execution_count": null,
      "outputs": [
        {
          "output_type": "display_data",
          "data": {
            "text/plain": [
              "<Figure size 1200x600 with 2 Axes>"
            ],
            "image/png": "[encoded data removed]"
          },
          "metadata": {}
        }
      ]
    },
    {
      "cell_type": "code",
      "source": [
        "rmsprop_model.summary()"
      ],
      "metadata": {
        "colab": {
          "base_uri": "https://localhost:8080/"
        },
        "id": "GtH2X6MHJRTD",
        "outputId": "f44d0f54-3345-4a45-9c62-57dbd3308fe5"
      },
      "execution_count": null,
      "outputs": [
        {
          "output_type": "stream",
          "name": "stdout",
          "text": [
            "Model: \"sequential_2\"\n",
            "_________________________________________________________________\n",
            " Layer (type)                Output Shape              Param #   \n",
            "=================================================================\n",
            " embedding_2 (Embedding)     (None, None, 100)         600000    \n",
            "                                                                 \n",
            " dropout_6 (Dropout)         (None, None, 100)         0         \n",
            "                                                                 \n",
            " bidirectional_4 (Bidirecti  (None, None, 200)         160800    \n",
            " onal)                                                           \n",
            "                                                                 \n",
            " dropout_7 (Dropout)         (None, None, 200)         0         \n",
            "                                                                 \n",
            " bidirectional_5 (Bidirecti  (None, 200)               240800    \n",
            " onal)                                                           \n",
            "                                                                 \n",
            " dropout_8 (Dropout)         (None, 200)               0         \n",
            "                                                                 \n",
            " dense_2 (Dense)             (None, 6)                 1206      \n",
            "                                                                 \n",
            "=================================================================\n",
            "Total params: 1002806 (3.83 MB)\n",
            "Trainable params: 1002806 (3.83 MB)\n",
            "Non-trainable params: 0 (0.00 Byte)\n",
            "_________________________________________________________________\n"
          ]
        }
      ]
    },
    {
      "cell_type": "code",
      "source": [
        "# Make predictions on the test data\n",
        "y_pred = rmsprop_model.predict(X_test)\n",
        "y_pred_binary = (y_pred > 0.5).astype(int)\n",
        "\n",
        "# Extract true labels from the DataFrame\n",
        "y_true = test[['toxic', 'severe_toxic', 'obscene', 'threat', 'insult', 'identity_hate']].values\n",
        "\n",
        "# Compute precision, recall, and F1-score for each label\n",
        "precision_per_label = precision_score(y_true, y_pred_binary, average=None)\n",
        "recall_per_label = recall_score(y_true, y_pred_binary, average=None)\n",
        "f1_per_label = f1_score(y_true, y_pred_binary, average=None)\n",
        "\n",
        "# Print precision, recall, and F1-score for each label\n",
        "for label, precision, recall, f1 in zip(y.columns, precision_per_label, recall_per_label, f1_per_label):\n",
        "    print(f\"Label: {label}\")\n",
        "    print(f\"Precision: {precision:.2f}\")\n",
        "    print(f\"Recall: {recall:.2f}\")\n",
        "    print(f\"F1-score: {f1:.2f}\")\n",
        "    print()"
      ],
      "metadata": {
        "colab": {
          "base_uri": "https://localhost:8080/"
        },
        "id": "ES6mK7Y-TWFi",
        "outputId": "a66f294b-06f8-432a-ee62-2ba7b10dae9a"
      },
      "execution_count": null,
      "outputs": [
        {
          "output_type": "stream",
          "name": "stdout",
          "text": [
            "2000/2000 [==============================] - 18s 8ms/step\n",
            "Label: toxic\n",
            "Precision: 0.36\n",
            "Recall: 0.90\n",
            "F1-score: 0.52\n",
            "\n",
            "Label: severe_toxic\n",
            "Precision: 0.38\n",
            "Recall: 0.02\n",
            "F1-score: 0.04\n",
            "\n",
            "Label: obscene\n",
            "Precision: 0.60\n",
            "Recall: 0.77\n",
            "F1-score: 0.67\n",
            "\n",
            "Label: threat\n",
            "Precision: 0.00\n",
            "Recall: 0.00\n",
            "F1-score: 0.00\n",
            "\n",
            "Label: insult\n",
            "Precision: 0.54\n",
            "Recall: 0.63\n",
            "F1-score: 0.58\n",
            "\n",
            "Label: identity_hate\n",
            "Precision: 0.00\n",
            "Recall: 0.00\n",
            "F1-score: 0.00\n",
            "\n"
          ]
        },
        {
          "output_type": "stream",
          "name": "stderr",
          "text": [
            "/usr/local/lib/python3.10/dist-packages/sklearn/metrics/_classification.py:1344: UndefinedMetricWarning: Precision is ill-defined and being set to 0.0 in labels with no predicted samples. Use `zero_division` parameter to control this behavior.\n",
            "  _warn_prf(average, modifier, msg_start, len(result))\n"
          ]
        }
      ]
    },
    {
      "cell_type": "code",
      "source": [
        "rmsprop_model_evaluation = rmsprop_model.evaluate(X_test, y_test)"
      ],
      "metadata": {
        "colab": {
          "base_uri": "https://localhost:8080/"
        },
        "id": "EgfpXPLSyAsx",
        "outputId": "b8573040-e088-487c-bf84-b0ca1f8fd470"
      },
      "execution_count": null,
      "outputs": [
        {
          "output_type": "stream",
          "name": "stdout",
          "text": [
            "2000/2000 [==============================] - 18s 9ms/step - loss: 0.1260 - accuracy: 0.9976\n"
          ]
        }
      ]
    },
    {
      "cell_type": "markdown",
      "source": [
        "**Define, train, and evaluate GRU model**"
      ],
      "metadata": {
        "id": "v9HOdN50v6jx"
      }
    },
    {
      "cell_type": "code",
      "source": [
        "# Define model\n",
        "model1 = Sequential()\n",
        "model1.add(Embedding(max_features, word_vector, weights=[embedding_matrix]))\n",
        "model1.add(Dropout(0.5))\n",
        "model1.add(Bidirectional(GRU(units=128, return_sequences=True)))\n",
        "model1.add(Dropout(0.5))\n",
        "model1.add(GRU(units=64))\n",
        "model1.add(Dropout(0.2))\n",
        "model1.add(Dense(6, activation='sigmoid'))\n",
        "\n",
        "model1.compile(\n",
        "    loss='binary_crossentropy',\n",
        "    optimizer='rmsprop',\n",
        "    metrics=['accuracy']\n",
        ")"
      ],
      "metadata": {
        "id": "aTrZ52MHsuM0"
      },
      "execution_count": null,
      "outputs": []
    },
    {
      "cell_type": "code",
      "source": [
        "# Start training\n",
        "history1 = model1.fit(X_train, y, batch_size=64, epochs=10, validation_split=0.2)"
      ],
      "metadata": {
        "colab": {
          "base_uri": "https://localhost:8080/"
        },
        "id": "LdyiJmG3tJq2",
        "outputId": "ed36e7ec-e0a1-42aa-e72c-533609d9b97b"
      },
      "execution_count": null,
      "outputs": [
        {
          "output_type": "stream",
          "name": "stdout",
          "text": [
            "Epoch 1/10\n",
            "406/406 [==============================] - 44s 87ms/step - loss: 0.3264 - accuracy: 0.9251 - val_loss: 0.2530 - val_accuracy: 0.9721\n",
            "Epoch 2/10\n",
            "406/406 [==============================] - 17s 41ms/step - loss: 0.2595 - accuracy: 0.9580 - val_loss: 0.2254 - val_accuracy: 0.9721\n",
            "Epoch 3/10\n",
            "406/406 [==============================] - 12s 30ms/step - loss: 0.2399 - accuracy: 0.9617 - val_loss: 0.2187 - val_accuracy: 0.9716\n",
            "Epoch 4/10\n",
            "406/406 [==============================] - 11s 28ms/step - loss: 0.2291 - accuracy: 0.9620 - val_loss: 0.2081 - val_accuracy: 0.9715\n",
            "Epoch 5/10\n",
            "406/406 [==============================] - 9s 23ms/step - loss: 0.2205 - accuracy: 0.9623 - val_loss: 0.2017 - val_accuracy: 0.9715\n",
            "Epoch 6/10\n",
            "406/406 [==============================] - 9s 23ms/step - loss: 0.2154 - accuracy: 0.9617 - val_loss: 0.2007 - val_accuracy: 0.9716\n",
            "Epoch 7/10\n",
            "406/406 [==============================] - 10s 24ms/step - loss: 0.2084 - accuracy: 0.9600 - val_loss: 0.1937 - val_accuracy: 0.9701\n",
            "Epoch 8/10\n",
            "406/406 [==============================] - 7s 18ms/step - loss: 0.2055 - accuracy: 0.9600 - val_loss: 0.1922 - val_accuracy: 0.9710\n",
            "Epoch 9/10\n",
            "406/406 [==============================] - 9s 22ms/step - loss: 0.2015 - accuracy: 0.9629 - val_loss: 0.1903 - val_accuracy: 0.9709\n",
            "Epoch 10/10\n",
            "406/406 [==============================] - 8s 20ms/step - loss: 0.1997 - accuracy: 0.9569 - val_loss: 0.1910 - val_accuracy: 0.9716\n"
          ]
        }
      ]
    },
    {
      "cell_type": "code",
      "source": [
        "# Plot training & validation loss\n",
        "plt.figure(figsize=(12, 6))\n",
        "plt.subplot(1, 2, 1)\n",
        "plt.plot(history1.history['loss'], label='GRU Train', color='blue')\n",
        "plt.plot(history1.history['val_loss'], label='GRU Validation', color='skyblue')\n",
        "plt.title('Model Loss')\n",
        "plt.xlabel('Epoch')\n",
        "plt.ylabel('Loss')\n",
        "plt.legend()\n",
        "\n",
        "# Plot training & validation accuracy\n",
        "plt.subplot(1, 2, 2)\n",
        "plt.plot(history1.history['accuracy'], label='GRU Train', color='blue')\n",
        "plt.plot(history1.history['val_accuracy'], label='GRU Validation', color='skyblue')\n",
        "\n",
        "plt.title('Model Accuracy')\n",
        "plt.xlabel('Epoch')\n",
        "plt.ylabel('Accuracy')\n",
        "plt.legend()\n",
        "\n",
        "plt.tight_layout()\n",
        "plt.show()"
      ],
      "metadata": {
        "colab": {
          "base_uri": "https://localhost:8080/",
          "height": 566
        },
        "id": "n4B8w_nNSGpd",
        "outputId": "65750f99-11d3-44a0-9e78-021fec913290"
      },
      "execution_count": null,
      "outputs": [
        {
          "output_type": "display_data",
          "data": {
            "text/plain": [
              "<Figure size 1200x600 with 2 Axes>"
            ],
            "image/png": "[encoded data removed]"
          },
          "metadata": {}
        }
      ]
    },
    {
      "cell_type": "code",
      "source": [
        "# Evaluate the GRU model on the test data\n",
        "y_pred_gru= model1.predict(X_test)\n",
        "y_pred_binary = (y_pred_gru > 0.5).astype(int)\n",
        "\n",
        "# Extract true labels from the DataFrame\n",
        "y_true = test[['toxic', 'severe_toxic', 'obscene', 'threat', 'insult', 'identity_hate']].values\n",
        "\n",
        "# Compute precision, recall, and F1-score for each label\n",
        "precision_per_label = precision_score(y_true, y_pred_binary, average=None)\n",
        "recall_per_label = recall_score(y_true, y_pred_binary, average=None)\n",
        "f1_per_label = f1_score(y_true, y_pred_binary, average=None)\n",
        "\n",
        "# Print precision, recall, and F1-score for each label\n",
        "for label, precision, recall, f1 in zip(y.columns, precision_per_label, recall_per_label, f1_per_label):\n",
        "    print(f\"Label: {label}\")\n",
        "    print(f\"Precision: {precision:.2f}\")\n",
        "    print(f\"Recall: {recall:.2f}\")\n",
        "    print(f\"F1-score: {f1:.2f}\")\n",
        "    print()"
      ],
      "metadata": {
        "colab": {
          "base_uri": "https://localhost:8080/"
        },
        "id": "4h2D7oRz5O76",
        "outputId": "fa16e5cd-df42-42df-c444-b8e4793d98dc"
      },
      "execution_count": null,
      "outputs": [
        {
          "output_type": "stream",
          "name": "stdout",
          "text": [
            "2000/2000 [==============================] - 15s 7ms/step\n",
            "Label: toxic\n",
            "Precision: 0.39\n",
            "Recall: 0.92\n",
            "F1-score: 0.55\n",
            "\n",
            "Label: severe_toxic\n",
            "Precision: 0.40\n",
            "Recall: 0.34\n",
            "F1-score: 0.37\n",
            "\n",
            "Label: obscene\n",
            "Precision: 0.62\n",
            "Recall: 0.74\n",
            "F1-score: 0.67\n",
            "\n",
            "Label: threat\n",
            "Precision: 0.26\n",
            "Recall: 0.19\n",
            "F1-score: 0.22\n",
            "\n",
            "Label: insult\n",
            "Precision: 0.66\n",
            "Recall: 0.59\n",
            "F1-score: 0.62\n",
            "\n",
            "Label: identity_hate\n",
            "Precision: 0.61\n",
            "Recall: 0.02\n",
            "F1-score: 0.04\n",
            "\n"
          ]
        }
      ]
    },
    {
      "cell_type": "markdown",
      "source": [
        "**Simple feed_forward model with TF-IDF features**"
      ],
      "metadata": {
        "id": "Gsdde4ohwZcg"
      }
    },
    {
      "cell_type": "code",
      "source": [
        "# Get TF-IDF vectors\n",
        "vectorizer = TfidfVectorizer(ngram_range=(1, 5), max_features=5000)\n",
        "X_train_tf = vectorizer.fit_transform(train['masked_comment'])\n",
        "X_test_tf = vectorizer.transform(test['comment_text'])\n",
        "print(vectorizer)"
      ],
      "metadata": {
        "colab": {
          "base_uri": "https://localhost:8080/"
        },
        "id": "LpsKMD6aaS9p",
        "outputId": "75d910b9-d84d-4173-842f-d1f7d247e914"
      },
      "execution_count": null,
      "outputs": [
        {
          "output_type": "stream",
          "name": "stdout",
          "text": [
            "TfidfVectorizer(max_features=5000, ngram_range=(1, 5))\n"
          ]
        }
      ]
    },
    {
      "cell_type": "code",
      "source": [
        "X_train_tf.shape"
      ],
      "metadata": {
        "colab": {
          "base_uri": "https://localhost:8080/"
        },
        "id": "S3gLceoTecD7",
        "outputId": "612d5ae4-4f8d-49c5-f469-a369f3e4c0a9"
      },
      "execution_count": null,
      "outputs": [
        {
          "output_type": "execute_result",
          "data": {
            "text/plain": [
              "(32450, 5000)"
            ]
          },
          "metadata": {},
          "execution_count": 24
        }
      ]
    },
    {
      "cell_type": "code",
      "source": [
        "# Split the TF-IDF features and labels into training and validation sets\n",
        "X_train_tf, X_val_tf, y_train, y_val = train_test_split(X_train_tf, y, test_size=0.2, random_state=42)"
      ],
      "metadata": {
        "id": "nujxIz67fvOb"
      },
      "execution_count": null,
      "outputs": []
    },
    {
      "cell_type": "code",
      "source": [
        "# Learning Rate Scheduling\n",
        "learning_rate = 0.0001\n",
        "adam_epsilon = 1e-7\n",
        "\n",
        "lr_schedule_1 = tf.keras.optimizers.schedules.ExponentialDecay(\n",
        "    initial_learning_rate=learning_rate,\n",
        "    decay_steps=1000,\n",
        "    decay_rate=0.95,\n",
        "    staircase=True\n",
        ")\n",
        "# batch_size\n",
        "batch_size = 64\n",
        "# Epochs\n",
        "epochs_1 = 15\n",
        "\n",
        "def train_model(optimizer, X_train, y, X_val=None, y_val=None, batch_size=batch_size, epochs=epochs_1):\n",
        "    # Create a new instance of the model\n",
        "    model = Sequential()\n",
        "    model.add(Dense(64, activation='relu', input_shape=(X_train.shape[1],)))\n",
        "    model.add(Dropout(0.5))\n",
        "    model.add(Dense(6, activation='sigmoid'))\n",
        "\n",
        "    # Compile the model with the specified optimizer\n",
        "    model.compile(\n",
        "        loss='binary_crossentropy',\n",
        "        optimizer=optimizer,\n",
        "        metrics=['accuracy']\n",
        "    )\n",
        "\n",
        "    # Define validation data if provided\n",
        "    validation_data = None\n",
        "    if X_val is not None and y_val is not None:\n",
        "        validation_data = (X_val, y_val)\n",
        "\n",
        "    # Train the model\n",
        "    history = model.fit(X_train, y, batch_size=batch_size, epochs=epochs, validation_data=validation_data)\n",
        "\n",
        "    return model, history\n",
        "\n",
        "# Train the model\n",
        "# Convert sparse matrices to numpy arrays\n",
        "X_train_tf_np = X_train_tf.toarray()\n",
        "X_val_tf_np = X_val_tf.toarray()\n",
        "\n",
        "# Convert Pandas DataFrame to numpy array\n",
        "y_train_np = y_train.to_numpy()\n",
        "y_val_np = y_val.to_numpy()\n",
        "# Train the model\n",
        "adam_model_tf, adam_history_tf = train_model(Adam(learning_rate=lr_schedule_1, epsilon=adam_epsilon), X_train_tf_np, y_train_np, X_val_tf_np, y_val_np)"
      ],
      "metadata": {
        "colab": {
          "base_uri": "https://localhost:8080/"
        },
        "id": "GmBAtSPDc4m8",
        "outputId": "9a2f662c-45eb-4a6a-d9f0-4326132122e1"
      },
      "execution_count": null,
      "outputs": [
        {
          "output_type": "stream",
          "name": "stdout",
          "text": [
            "Epoch 1/15\n",
            "406/406 [==============================] - 5s 5ms/step - loss: 0.6111 - accuracy: 0.6702 - val_loss: 0.5157 - val_accuracy: 0.9723\n",
            "Epoch 2/15\n",
            "406/406 [==============================] - 2s 4ms/step - loss: 0.4535 - accuracy: 0.8993 - val_loss: 0.3936 - val_accuracy: 0.9723\n",
            "Epoch 3/15\n",
            "406/406 [==============================] - 2s 4ms/step - loss: 0.3753 - accuracy: 0.9365 - val_loss: 0.3415 - val_accuracy: 0.9723\n",
            "Epoch 4/15\n",
            "406/406 [==============================] - 2s 4ms/step - loss: 0.3374 - accuracy: 0.9385 - val_loss: 0.3114 - val_accuracy: 0.9723\n",
            "Epoch 5/15\n",
            "406/406 [==============================] - 2s 4ms/step - loss: 0.3133 - accuracy: 0.9399 - val_loss: 0.2910 - val_accuracy: 0.9723\n",
            "Epoch 6/15\n",
            "406/406 [==============================] - 3s 6ms/step - loss: 0.2949 - accuracy: 0.9406 - val_loss: 0.2763 - val_accuracy: 0.9723\n",
            "Epoch 7/15\n",
            "406/406 [==============================] - 2s 4ms/step - loss: 0.2821 - accuracy: 0.9366 - val_loss: 0.2645 - val_accuracy: 0.9723\n",
            "Epoch 8/15\n",
            "406/406 [==============================] - 2s 4ms/step - loss: 0.2708 - accuracy: 0.9418 - val_loss: 0.2555 - val_accuracy: 0.9723\n",
            "Epoch 9/15\n",
            "406/406 [==============================] - 2s 4ms/step - loss: 0.2611 - accuracy: 0.9449 - val_loss: 0.2483 - val_accuracy: 0.9723\n",
            "Epoch 10/15\n",
            "406/406 [==============================] - 2s 4ms/step - loss: 0.2524 - accuracy: 0.9455 - val_loss: 0.2424 - val_accuracy: 0.9723\n",
            "Epoch 11/15\n",
            "406/406 [==============================] - 2s 4ms/step - loss: 0.2473 - accuracy: 0.9487 - val_loss: 0.2376 - val_accuracy: 0.9723\n",
            "Epoch 12/15\n",
            "406/406 [==============================] - 2s 4ms/step - loss: 0.2424 - accuracy: 0.9500 - val_loss: 0.2336 - val_accuracy: 0.9723\n",
            "Epoch 13/15\n",
            "406/406 [==============================] - 2s 5ms/step - loss: 0.2368 - accuracy: 0.9512 - val_loss: 0.2300 - val_accuracy: 0.9723\n",
            "Epoch 14/15\n",
            "406/406 [==============================] - 2s 5ms/step - loss: 0.2328 - accuracy: 0.9553 - val_loss: 0.2270 - val_accuracy: 0.9723\n",
            "Epoch 15/15\n",
            "406/406 [==============================] - 2s 4ms/step - loss: 0.2294 - accuracy: 0.9564 - val_loss: 0.2244 - val_accuracy: 0.9723\n"
          ]
        }
      ]
    },
    {
      "cell_type": "code",
      "source": [
        "# Convert sparse matrices to numpy arrays\n",
        "X_test_tf_np = X_test_tf.toarray()\n",
        "\n",
        "# Evaluate the model on the test data\n",
        "y_pred_tf = adam_model_tf.predict(X_test_tf_np)\n",
        "\n",
        "# Binarize predictions if necessary\n",
        "y_pred_binary = (y_pred_tf > 0.5).astype(int)\n",
        "\n",
        "# Extract true labels from the DataFrame\n",
        "y_true = y_test.values\n",
        "\n",
        "# Compute precision, recall, and F1-score for each label\n",
        "precision_per_label = precision_score(y_true, y_pred_binary, average=None)\n",
        "recall_per_label = recall_score(y_true, y_pred_binary, average=None)\n",
        "f1_per_label = f1_score(y_true, y_pred_binary, average=None)\n",
        "\n",
        "# Print precision, recall, and F1-score for each label\n",
        "for label, precision, recall, f1 in zip(y.columns, precision_per_label, recall_per_label, f1_per_label):\n",
        "    print(f\"Label: {label}\")\n",
        "    print(f\"Precision: {precision:.2f}\")\n",
        "    print(f\"Recall: {recall:.2f}\")\n",
        "    print(f\"F1-score: {f1:.2f}\")\n",
        "    print()"
      ],
      "metadata": {
        "colab": {
          "base_uri": "https://localhost:8080/"
        },
        "id": "5DlcNvvUizob",
        "outputId": "24de3713-01bf-4148-83dc-bab2e1e41e56"
      },
      "execution_count": null,
      "outputs": [
        {
          "output_type": "stream",
          "name": "stdout",
          "text": [
            "2000/2000 [==============================] - 4s 2ms/step\n",
            "Label: toxic\n",
            "Precision: 0.40\n",
            "Recall: 0.80\n",
            "F1-score: 0.53\n",
            "\n",
            "Label: severe_toxic\n",
            "Precision: 0.39\n",
            "Recall: 0.04\n",
            "F1-score: 0.07\n",
            "\n",
            "Label: obscene\n",
            "Precision: 0.70\n",
            "Recall: 0.56\n",
            "F1-score: 0.63\n",
            "\n",
            "Label: threat\n",
            "Precision: 0.00\n",
            "Recall: 0.00\n",
            "F1-score: 0.00\n",
            "\n",
            "Label: insult\n",
            "Precision: 0.63\n",
            "Recall: 0.51\n",
            "F1-score: 0.57\n",
            "\n",
            "Label: identity_hate\n",
            "Precision: 0.00\n",
            "Recall: 0.00\n",
            "F1-score: 0.00\n",
            "\n"
          ]
        },
        {
          "output_type": "stream",
          "name": "stderr",
          "text": [
            "/usr/local/lib/python3.10/dist-packages/sklearn/metrics/_classification.py:1344: UndefinedMetricWarning: Precision is ill-defined and being set to 0.0 in labels with no predicted samples. Use `zero_division` parameter to control this behavior.\n",
            "  _warn_prf(average, modifier, msg_start, len(result))\n"
          ]
        }
      ]
    },
    {
      "cell_type": "code",
      "source": [
        "adam_model_tf_eva = adam_model_tf.evaluate(X_test_tf_np, y_test.values)"
      ],
      "metadata": {
        "colab": {
          "base_uri": "https://localhost:8080/"
        },
        "id": "jBkaqXgM1kL5",
        "outputId": "dab78542-d47d-465e-e692-e4ad4302c808"
      },
      "execution_count": null,
      "outputs": [
        {
          "output_type": "stream",
          "name": "stdout",
          "text": [
            "2000/2000 [==============================] - 5s 2ms/step - loss: 0.1286 - accuracy: 0.9976\n"
          ]
        }
      ]
    },
    {
      "cell_type": "code",
      "source": [
        "# Validify if rmsprop optimiser perform better\n",
        "# batch_size\n",
        "batch_size = 64\n",
        "# Epochs\n",
        "epochs_1 = 10\n",
        "\n",
        "def train_model(optimizer, X_train, y, X_val=None, y_val=None, batch_size=batch_size, epochs=epochs_1):\n",
        "    # Create a new instance of the model\n",
        "    model = Sequential()\n",
        "    model.add(Dense(64, activation='relu', input_shape=(X_train.shape[1],)))\n",
        "    model.add(Dropout(0.5))\n",
        "    model.add(Dense(6, activation='sigmoid'))\n",
        "\n",
        "    # Compile the model with the specified optimizer\n",
        "    model.compile(\n",
        "        loss='binary_crossentropy',\n",
        "        optimizer=optimizer,\n",
        "        metrics=['accuracy']\n",
        "    )\n",
        "\n",
        "    # Define validation data if provided\n",
        "    validation_data = None\n",
        "    if X_val is not None and y_val is not None:\n",
        "        validation_data = (X_val, y_val)\n",
        "\n",
        "    # Train the model\n",
        "    history = model.fit(X_train, y, batch_size=batch_size, epochs=epochs, validation_data=validation_data)\n",
        "\n",
        "    return model, history\n",
        "\n",
        "# Train the model\n",
        "# Convert sparse matrices to numpy arrays\n",
        "X_train_tf_np = X_train_tf.toarray()\n",
        "X_val_tf_np = X_val_tf.toarray()\n",
        "\n",
        "# Convert Pandas DataFrame to numpy array\n",
        "y_train_np = y_train.to_numpy()\n",
        "y_val_np = y_val.to_numpy()\n",
        "# Train the model train_model(optimizer='rmsprop', X_train=X_train, y=y)\n",
        "rmsprop_model_tf, rmsprop_history_tf = train_model(optimizer='rmsprop', X_train=X_train_tf_np, y=y_train_np, X_val=X_val_tf_np, y_val=y_val_np)"
      ],
      "metadata": {
        "colab": {
          "base_uri": "https://localhost:8080/"
        },
        "id": "Y1qhGMSMh1hg",
        "outputId": "119a51fc-b9b2-4d7e-e3b3-f0b387e84f14"
      },
      "execution_count": null,
      "outputs": [
        {
          "output_type": "stream",
          "name": "stdout",
          "text": [
            "Epoch 1/10\n",
            "406/406 [==============================] - 5s 5ms/step - loss: 0.3830 - accuracy: 0.9456 - val_loss: 0.2798 - val_accuracy: 0.9723\n",
            "Epoch 2/10\n",
            "406/406 [==============================] - 2s 4ms/step - loss: 0.2631 - accuracy: 0.9703 - val_loss: 0.2338 - val_accuracy: 0.9723\n",
            "Epoch 3/10\n",
            "406/406 [==============================] - 2s 6ms/step - loss: 0.2312 - accuracy: 0.9711 - val_loss: 0.2161 - val_accuracy: 0.9723\n",
            "Epoch 4/10\n",
            "406/406 [==============================] - 2s 4ms/step - loss: 0.2160 - accuracy: 0.9710 - val_loss: 0.2070 - val_accuracy: 0.9723\n",
            "Epoch 5/10\n",
            "406/406 [==============================] - 2s 4ms/step - loss: 0.2065 - accuracy: 0.9710 - val_loss: 0.2020 - val_accuracy: 0.9723\n",
            "Epoch 6/10\n",
            "406/406 [==============================] - 2s 5ms/step - loss: 0.1997 - accuracy: 0.9705 - val_loss: 0.1991 - val_accuracy: 0.9723\n",
            "Epoch 7/10\n",
            "406/406 [==============================] - 2s 4ms/step - loss: 0.1945 - accuracy: 0.9693 - val_loss: 0.1969 - val_accuracy: 0.9723\n",
            "Epoch 8/10\n",
            "406/406 [==============================] - 2s 4ms/step - loss: 0.1900 - accuracy: 0.9677 - val_loss: 0.1958 - val_accuracy: 0.9723\n",
            "Epoch 9/10\n",
            "406/406 [==============================] - 2s 4ms/step - loss: 0.1868 - accuracy: 0.9649 - val_loss: 0.1948 - val_accuracy: 0.9723\n",
            "Epoch 10/10\n",
            "406/406 [==============================] - 2s 5ms/step - loss: 0.1843 - accuracy: 0.9613 - val_loss: 0.1936 - val_accuracy: 0.9723\n"
          ]
        }
      ]
    },
    {
      "cell_type": "code",
      "source": [
        "# Convert sparse matrices to numpy arrays\n",
        "X_test_tf_np = X_test_tf.toarray()\n",
        "\n",
        "# Evaluate the model on the test data\n",
        "y_pred_tf = rmsprop_model_tf.predict(X_test_tf_np)\n",
        "\n",
        "# Binarize predictions\n",
        "y_pred_binary = (y_pred_tf > 0.5).astype(int)\n",
        "\n",
        "# Extract true labels from the DataFrame\n",
        "y_true = y_test.values\n",
        "\n",
        "# Compute precision, recall, and F1-score for each label\n",
        "precision_per_label = precision_score(y_true, y_pred_binary, average=None)\n",
        "recall_per_label = recall_score(y_true, y_pred_binary, average=None)\n",
        "f1_per_label = f1_score(y_true, y_pred_binary, average=None)\n",
        "\n",
        "# Print precision, recall, and F1-score for each label\n",
        "for label, precision, recall, f1 in zip(y.columns, precision_per_label, recall_per_label, f1_per_label):\n",
        "    print(f\"Label: {label}\")\n",
        "    print(f\"Precision: {precision:.2f}\")\n",
        "    print(f\"Recall: {recall:.2f}\")\n",
        "    print(f\"F1-score: {f1:.2f}\")\n",
        "    print()"
      ],
      "metadata": {
        "colab": {
          "base_uri": "https://localhost:8080/"
        },
        "id": "XuVY45j5j1yP",
        "outputId": "bacfc93b-5730-42a7-fcb6-dd7925159a24"
      },
      "execution_count": null,
      "outputs": [
        {
          "output_type": "stream",
          "name": "stdout",
          "text": [
            "2000/2000 [==============================] - 3s 2ms/step\n",
            "Label: toxic\n",
            "Precision: 0.40\n",
            "Recall: 0.88\n",
            "F1-score: 0.55\n",
            "\n",
            "Label: severe_toxic\n",
            "Precision: 0.36\n",
            "Recall: 0.12\n",
            "F1-score: 0.18\n",
            "\n",
            "Label: obscene\n",
            "Precision: 0.62\n",
            "Recall: 0.74\n",
            "F1-score: 0.68\n",
            "\n",
            "Label: threat\n",
            "Precision: 1.00\n",
            "Recall: 0.01\n",
            "F1-score: 0.02\n",
            "\n",
            "Label: insult\n",
            "Precision: 0.60\n",
            "Recall: 0.66\n",
            "F1-score: 0.63\n",
            "\n",
            "Label: identity_hate\n",
            "Precision: 0.00\n",
            "Recall: 0.00\n",
            "F1-score: 0.00\n",
            "\n"
          ]
        },
        {
          "output_type": "stream",
          "name": "stderr",
          "text": [
            "/usr/local/lib/python3.10/dist-packages/sklearn/metrics/_classification.py:1344: UndefinedMetricWarning: Precision is ill-defined and being set to 0.0 in labels with no predicted samples. Use `zero_division` parameter to control this behavior.\n",
            "  _warn_prf(average, modifier, msg_start, len(result))\n"
          ]
        }
      ]
    },
    {
      "cell_type": "code",
      "source": [
        " # Define a test sentence\n",
        "test_sentence = \"Shit, this is not cool\"\n",
        "\n",
        "# Transform the test sentence using the same vectorizer\n",
        "X_test_sentence_tf = vectorizer.transform([test_sentence])\n",
        "X_test_sentence_np = X_test_sentence_tf.toarray()\n",
        "\n",
        "# Predict using rmsprop_model\n",
        "prediction = rmsprop_model_tf.predict(X_test_sentence_np)\n",
        "\n",
        "# Convert the probability to a class\n",
        "binary_prediction = 1 if np.max(prediction) > 0.5 else 0\n",
        "\n",
        "print(\"Prediction:\", binary_prediction)"
      ],
      "metadata": {
        "colab": {
          "base_uri": "https://localhost:8080/"
        },
        "id": "eczg74mvykQU",
        "outputId": "751166e0-02a6-47b5-813d-f25c6a080dfe"
      },
      "execution_count": null,
      "outputs": [
        {
          "output_type": "stream",
          "name": "stdout",
          "text": [
            "1/1 [==============================] - 0s 30ms/step\n",
            "Prediction: 1\n"
          ]
        }
      ]
    }
  ]
}