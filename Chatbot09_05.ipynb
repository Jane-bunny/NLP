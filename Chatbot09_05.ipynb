{
 "cells": [
  {
   "cell_type": "markdown",
   "metadata": {},
   "source": [
    "<div style=\"border-top: 7px solid #800080; animation: sparkling 2s linear infinite;\"></div>\n",
    "\n",
    "<style>\n",
    "@keyframes sparkling {\n",
    "  0% { background-position: 0 0; }\n",
    "  100% { background-position: 100% 0; }\n",
    "}\n",
    "</style>"
   ]
  },
  {
   "cell_type": "markdown",
   "metadata": {
    "id": "GhWTHYS_OoGN"
   },
   "source": [
    "**Chatbot Modelling**\n",
    "\n",
    "*Authors (alphabetical) : Khumalo, Michael, Robinson, Curtis, Tosun, Tolga, Wan, Chi Chuen (Edmond), Zhang, Guizhen (Jane)*\n",
    "\n",
    "- Exploratory Data Analysis\n",
    "- Data Processing for SeqtoSeq Model\n",
    "- Model Architecture without Attention\n",
    "  - Define Encoder, Decoder, SeqtoSeq Models\n",
    "  - Training\n",
    "  - Evaluation\n",
    "- Model Architecture with Attention\n",
    "  - Define Attention Mechanism\n",
    "  - Define Encoder, Decoder, SeqtoSeq Models\n",
    "  - Training\n",
    "  - Evaluation\n",
    "- Model Tuning\n",
    "...."
   ]
  },
  {
   "cell_type": "markdown",
   "metadata": {},
   "source": [
    "<div style=\"border-top: 7px solid #800080; animation: sparkling 2s linear infinite;\"></div>\n",
    "\n",
    "<style>\n",
    "@keyframes sparkling {\n",
    "  0% { background-position: 0 0; }\n",
    "  100% { background-position: 100% 0; }\n",
    "}\n",
    "</style>"
   ]
  },
  {
   "cell_type": "markdown",
   "metadata": {
    "id": "2WNV1APFQIBf"
   },
   "source": [
    "**Exploratory Data Analysis**\n",
    "- Set-up environment\n",
    "- Load libraries\n",
    "- Load datasets\n",
    "- Data exploration"
   ]
  },
  {
   "cell_type": "code",
   "execution_count": 3,
   "metadata": {
    "id": "qfdW-x47Ol2P"
   },
   "outputs": [],
   "source": [
    "import os\n",
    "os.environ['TF_CPP_MIN_LOG_LEVEL'] = '2'"
   ]
  },
  {
   "cell_type": "code",
   "execution_count": 1,
   "metadata": {
    "id": "HmtF1eO0_HMq"
   },
   "outputs": [],
   "source": [
    "import pandas as pd\n",
    "import matplotlib.pyplot as plt\n",
    "import re\n",
    "import tensorflow as tf\n",
    "import numpy as np\n",
    "import seaborn as sns\n",
    "from textblob import TextBlob\n",
    "from collections import Counter\n",
    "import matplotlib.pyplot as plt\n",
    "\n",
    "from tensorflow.keras.models import Model\n",
    "from tensorflow.keras.layers import Input, Layer, Embedding, GRU, Dense, Bidirectional, Concatenate\n",
    "from tensorflow.keras import backend as K\n",
    "from tensorflow.keras.preprocessing.text import Tokenizer\n",
    "from tensorflow.keras.preprocessing.sequence import pad_sequences\n",
    "from tensorflow.keras.callbacks import EarlyStopping, ModelCheckpoint"
   ]
  },
  {
   "cell_type": "code",
   "execution_count": 4,
   "metadata": {
    "id": "zeOzaljXQXFN"
   },
   "outputs": [
    {
     "name": "stdout",
     "output_type": "stream",
     "text": [
      "Failed to detect a GPU.\n"
     ]
    }
   ],
   "source": [
    "# Checking GPU availablibility\n",
    "gpus = tf.config.list_physical_devices(\"GPU\")\n",
    "\n",
    "if gpus:\n",
    "    for gpu in gpus:\n",
    "        print(\"Found a GPU with the name:\", gpu)\n",
    "else:\n",
    "    print(\"Failed to detect a GPU.\")"
   ]
  },
  {
   "cell_type": "code",
   "execution_count": 2,
   "metadata": {
    "colab": {
     "base_uri": "https://localhost:8080/",
     "height": 292
    },
    "id": "ZLBxHrHf_Ssn",
    "outputId": "6e32bb87-3b69-473e-b2d3-40d589df4b14"
   },
   "outputs": [
    {
     "data": {
      "application/vnd.google.colaboratory.intrinsic+json": {
       "summary": "{\n  \"name\": \"train_data\",\n  \"rows\": 20347,\n  \"fields\": [\n    {\n      \"column\": \"QuestionID\",\n      \"properties\": {\n        \"dtype\": \"category\",\n        \"num_unique_values\": 2117,\n        \"samples\": [\n          \"Q586\",\n          \"Q1577\",\n          \"Q369\"\n        ],\n        \"semantic_type\": \"\",\n        \"description\": \"\"\n      }\n    },\n    {\n      \"column\": \"Question\",\n      \"properties\": {\n        \"dtype\": \"category\",\n        \"num_unique_values\": 2117,\n        \"samples\": [\n          \"how many native Americans did the United States kill or deport?\",\n          \"what is a melon baller used for\",\n          \"how many people are in the world\"\n        ],\n        \"semantic_type\": \"\",\n        \"description\": \"\"\n      }\n    },\n    {\n      \"column\": \"DocumentID\",\n      \"properties\": {\n        \"dtype\": \"category\",\n        \"num_unique_values\": 1994,\n        \"samples\": [\n          \"D1254\",\n          \"D2358\",\n          \"D592\"\n        ],\n        \"semantic_type\": \"\",\n        \"description\": \"\"\n      }\n    },\n    {\n      \"column\": \"DocumentTitle\",\n      \"properties\": {\n        \"dtype\": \"category\",\n        \"num_unique_values\": 1994,\n        \"samples\": [\n          \"The Night the Lights Went Out in Georgia\",\n          \"Times Square Studios\",\n          \"DMX (rapper)\"\n        ],\n        \"semantic_type\": \"\",\n        \"description\": \"\"\n      }\n    },\n    {\n      \"column\": \"SentenceID\",\n      \"properties\": {\n        \"dtype\": \"string\",\n        \"num_unique_values\": 18828,\n        \"samples\": [\n          \"D357-15\",\n          \"D441-1\",\n          \"D50-19\"\n        ],\n        \"semantic_type\": \"\",\n        \"description\": \"\"\n      }\n    },\n    {\n      \"column\": \"Sentence\",\n      \"properties\": {\n        \"dtype\": \"string\",\n        \"num_unique_values\": 18808,\n        \"samples\": [\n          \"A recurring antagonist, he is the Supreme Commander of the Confederacy of Independent Systems, a political faction of planetary systems waging war on the Galactic Republic .\",\n          \"It is followed by Purgatorio and Paradiso .\",\n          \"Recovery was an international success and was named the best selling album of 2010 worldwide, joining The Eminem Show, which was the best seller of 2002.\"\n        ],\n        \"semantic_type\": \"\",\n        \"description\": \"\"\n      }\n    },\n    {\n      \"column\": \"Label\",\n      \"properties\": {\n        \"dtype\": \"number\",\n        \"std\": 0,\n        \"min\": 0,\n        \"max\": 1,\n        \"num_unique_values\": 2,\n        \"samples\": [\n          1,\n          0\n        ],\n        \"semantic_type\": \"\",\n        \"description\": \"\"\n      }\n    }\n  ]\n}",
       "type": "dataframe",
       "variable_name": "train_data"
      },
      "text/html": [
       "\n",
       "  <div id=\"df-93d26aef-4bd4-4104-ad66-cdbaf20276ec\" class=\"colab-df-container\">\n",
       "    <div>\n",
       "<style scoped>\n",
       "    .dataframe tbody tr th:only-of-type {\n",
       "        vertical-align: middle;\n",
       "    }\n",
       "\n",
       "    .dataframe tbody tr th {\n",
       "        vertical-align: top;\n",
       "    }\n",
       "\n",
       "    .dataframe thead th {\n",
       "        text-align: right;\n",
       "    }\n",
       "</style>\n",
       "<table border=\"1\" class=\"dataframe\">\n",
       "  <thead>\n",
       "    <tr style=\"text-align: right;\">\n",
       "      <th></th>\n",
       "      <th>QuestionID</th>\n",
       "      <th>Question</th>\n",
       "      <th>DocumentID</th>\n",
       "      <th>DocumentTitle</th>\n",
       "      <th>SentenceID</th>\n",
       "      <th>Sentence</th>\n",
       "      <th>Label</th>\n",
       "    </tr>\n",
       "  </thead>\n",
       "  <tbody>\n",
       "    <tr>\n",
       "      <th>0</th>\n",
       "      <td>Q1</td>\n",
       "      <td>how are glacier caves formed?</td>\n",
       "      <td>D1</td>\n",
       "      <td>Glacier cave</td>\n",
       "      <td>D1-0</td>\n",
       "      <td>A partly submerged glacier cave on Perito More...</td>\n",
       "      <td>0</td>\n",
       "    </tr>\n",
       "    <tr>\n",
       "      <th>1</th>\n",
       "      <td>Q1</td>\n",
       "      <td>how are glacier caves formed?</td>\n",
       "      <td>D1</td>\n",
       "      <td>Glacier cave</td>\n",
       "      <td>D1-1</td>\n",
       "      <td>The ice facade is approximately 60 m high</td>\n",
       "      <td>0</td>\n",
       "    </tr>\n",
       "    <tr>\n",
       "      <th>2</th>\n",
       "      <td>Q1</td>\n",
       "      <td>how are glacier caves formed?</td>\n",
       "      <td>D1</td>\n",
       "      <td>Glacier cave</td>\n",
       "      <td>D1-2</td>\n",
       "      <td>Ice formations in the Titlis glacier cave</td>\n",
       "      <td>0</td>\n",
       "    </tr>\n",
       "    <tr>\n",
       "      <th>3</th>\n",
       "      <td>Q1</td>\n",
       "      <td>how are glacier caves formed?</td>\n",
       "      <td>D1</td>\n",
       "      <td>Glacier cave</td>\n",
       "      <td>D1-3</td>\n",
       "      <td>A glacier cave is a cave formed within the ice...</td>\n",
       "      <td>1</td>\n",
       "    </tr>\n",
       "    <tr>\n",
       "      <th>4</th>\n",
       "      <td>Q1</td>\n",
       "      <td>how are glacier caves formed?</td>\n",
       "      <td>D1</td>\n",
       "      <td>Glacier cave</td>\n",
       "      <td>D1-4</td>\n",
       "      <td>Glacier caves are often called ice caves , but...</td>\n",
       "      <td>0</td>\n",
       "    </tr>\n",
       "  </tbody>\n",
       "</table>\n",
       "</div>\n",
       "    <div class=\"colab-df-buttons\">\n",
       "\n",
       "  <div class=\"colab-df-container\">\n",
       "    <button class=\"colab-df-convert\" onclick=\"convertToInteractive('df-93d26aef-4bd4-4104-ad66-cdbaf20276ec')\"\n",
       "            title=\"Convert this dataframe to an interactive table.\"\n",
       "            style=\"display:none;\">\n",
       "\n",
       "  <svg xmlns=\"http://www.w3.org/2000/svg\" height=\"24px\" viewBox=\"0 -960 960 960\">\n",
       "    <path d=\"M120-120v-720h720v720H120Zm60-500h600v-160H180v160Zm220 220h160v-160H400v160Zm0 220h160v-160H400v160ZM180-400h160v-160H180v160Zm440 0h160v-160H620v160ZM180-180h160v-160H180v160Zm440 0h160v-160H620v160Z\"/>\n",
       "  </svg>\n",
       "    </button>\n",
       "\n",
       "  <style>\n",
       "    .colab-df-container {\n",
       "      display:flex;\n",
       "      gap: 12px;\n",
       "    }\n",
       "\n",
       "    .colab-df-convert {\n",
       "      background-color: #E8F0FE;\n",
       "      border: none;\n",
       "      border-radius: 50%;\n",
       "      cursor: pointer;\n",
       "      display: none;\n",
       "      fill: #1967D2;\n",
       "      height: 32px;\n",
       "      padding: 0 0 0 0;\n",
       "      width: 32px;\n",
       "    }\n",
       "\n",
       "    .colab-df-convert:hover {\n",
       "      background-color: #E2EBFA;\n",
       "      box-shadow: 0px 1px 2px rgba(60, 64, 67, 0.3), 0px 1px 3px 1px rgba(60, 64, 67, 0.15);\n",
       "      fill: #174EA6;\n",
       "    }\n",
       "\n",
       "    .colab-df-buttons div {\n",
       "      margin-bottom: 4px;\n",
       "    }\n",
       "\n",
       "    [theme=dark] .colab-df-convert {\n",
       "      background-color: #3B4455;\n",
       "      fill: #D2E3FC;\n",
       "    }\n",
       "\n",
       "    [theme=dark] .colab-df-convert:hover {\n",
       "      background-color: #434B5C;\n",
       "      box-shadow: 0px 1px 3px 1px rgba(0, 0, 0, 0.15);\n",
       "      filter: drop-shadow(0px 1px 2px rgba(0, 0, 0, 0.3));\n",
       "      fill: #FFFFFF;\n",
       "    }\n",
       "  </style>\n",
       "\n",
       "    <script>\n",
       "      const buttonEl =\n",
       "        document.querySelector('#df-93d26aef-4bd4-4104-ad66-cdbaf20276ec button.colab-df-convert');\n",
       "      buttonEl.style.display =\n",
       "        google.colab.kernel.accessAllowed ? 'block' : 'none';\n",
       "\n",
       "      async function convertToInteractive(key) {\n",
       "        const element = document.querySelector('#df-93d26aef-4bd4-4104-ad66-cdbaf20276ec');\n",
       "        const dataTable =\n",
       "          await google.colab.kernel.invokeFunction('convertToInteractive',\n",
       "                                                    [key], {});\n",
       "        if (!dataTable) return;\n",
       "\n",
       "        const docLinkHtml = 'Like what you see? Visit the ' +\n",
       "          '<a target=\"_blank\" href=https://colab.research.google.com/notebooks/data_table.ipynb>data table notebook</a>'\n",
       "          + ' to learn more about interactive tables.';\n",
       "        element.innerHTML = '';\n",
       "        dataTable['output_type'] = 'display_data';\n",
       "        await google.colab.output.renderOutput(dataTable, element);\n",
       "        const docLink = document.createElement('div');\n",
       "        docLink.innerHTML = docLinkHtml;\n",
       "        element.appendChild(docLink);\n",
       "      }\n",
       "    </script>\n",
       "  </div>\n",
       "\n",
       "\n",
       "<div id=\"df-9a8d0d88-ac09-4348-b67b-0a09db053397\">\n",
       "  <button class=\"colab-df-quickchart\" onclick=\"quickchart('df-9a8d0d88-ac09-4348-b67b-0a09db053397')\"\n",
       "            title=\"Suggest charts\"\n",
       "            style=\"display:none;\">\n",
       "\n",
       "<svg xmlns=\"http://www.w3.org/2000/svg\" height=\"24px\"viewBox=\"0 0 24 24\"\n",
       "     width=\"24px\">\n",
       "    <g>\n",
       "        <path d=\"M19 3H5c-1.1 0-2 .9-2 2v14c0 1.1.9 2 2 2h14c1.1 0 2-.9 2-2V5c0-1.1-.9-2-2-2zM9 17H7v-7h2v7zm4 0h-2V7h2v10zm4 0h-2v-4h2v4z\"/>\n",
       "    </g>\n",
       "</svg>\n",
       "  </button>\n",
       "\n",
       "<style>\n",
       "  .colab-df-quickchart {\n",
       "      --bg-color: #E8F0FE;\n",
       "      --fill-color: #1967D2;\n",
       "      --hover-bg-color: #E2EBFA;\n",
       "      --hover-fill-color: #174EA6;\n",
       "      --disabled-fill-color: #AAA;\n",
       "      --disabled-bg-color: #DDD;\n",
       "  }\n",
       "\n",
       "  [theme=dark] .colab-df-quickchart {\n",
       "      --bg-color: #3B4455;\n",
       "      --fill-color: #D2E3FC;\n",
       "      --hover-bg-color: #434B5C;\n",
       "      --hover-fill-color: #FFFFFF;\n",
       "      --disabled-bg-color: #3B4455;\n",
       "      --disabled-fill-color: #666;\n",
       "  }\n",
       "\n",
       "  .colab-df-quickchart {\n",
       "    background-color: var(--bg-color);\n",
       "    border: none;\n",
       "    border-radius: 50%;\n",
       "    cursor: pointer;\n",
       "    display: none;\n",
       "    fill: var(--fill-color);\n",
       "    height: 32px;\n",
       "    padding: 0;\n",
       "    width: 32px;\n",
       "  }\n",
       "\n",
       "  .colab-df-quickchart:hover {\n",
       "    background-color: var(--hover-bg-color);\n",
       "    box-shadow: 0 1px 2px rgba(60, 64, 67, 0.3), 0 1px 3px 1px rgba(60, 64, 67, 0.15);\n",
       "    fill: var(--button-hover-fill-color);\n",
       "  }\n",
       "\n",
       "  .colab-df-quickchart-complete:disabled,\n",
       "  .colab-df-quickchart-complete:disabled:hover {\n",
       "    background-color: var(--disabled-bg-color);\n",
       "    fill: var(--disabled-fill-color);\n",
       "    box-shadow: none;\n",
       "  }\n",
       "\n",
       "  .colab-df-spinner {\n",
       "    border: 2px solid var(--fill-color);\n",
       "    border-color: transparent;\n",
       "    border-bottom-color: var(--fill-color);\n",
       "    animation:\n",
       "      spin 1s steps(1) infinite;\n",
       "  }\n",
       "\n",
       "  @keyframes spin {\n",
       "    0% {\n",
       "      border-color: transparent;\n",
       "      border-bottom-color: var(--fill-color);\n",
       "      border-left-color: var(--fill-color);\n",
       "    }\n",
       "    20% {\n",
       "      border-color: transparent;\n",
       "      border-left-color: var(--fill-color);\n",
       "      border-top-color: var(--fill-color);\n",
       "    }\n",
       "    30% {\n",
       "      border-color: transparent;\n",
       "      border-left-color: var(--fill-color);\n",
       "      border-top-color: var(--fill-color);\n",
       "      border-right-color: var(--fill-color);\n",
       "    }\n",
       "    40% {\n",
       "      border-color: transparent;\n",
       "      border-right-color: var(--fill-color);\n",
       "      border-top-color: var(--fill-color);\n",
       "    }\n",
       "    60% {\n",
       "      border-color: transparent;\n",
       "      border-right-color: var(--fill-color);\n",
       "    }\n",
       "    80% {\n",
       "      border-color: transparent;\n",
       "      border-right-color: var(--fill-color);\n",
       "      border-bottom-color: var(--fill-color);\n",
       "    }\n",
       "    90% {\n",
       "      border-color: transparent;\n",
       "      border-bottom-color: var(--fill-color);\n",
       "    }\n",
       "  }\n",
       "</style>\n",
       "\n",
       "  <script>\n",
       "    async function quickchart(key) {\n",
       "      const quickchartButtonEl =\n",
       "        document.querySelector('#' + key + ' button');\n",
       "      quickchartButtonEl.disabled = true;  // To prevent multiple clicks.\n",
       "      quickchartButtonEl.classList.add('colab-df-spinner');\n",
       "      try {\n",
       "        const charts = await google.colab.kernel.invokeFunction(\n",
       "            'suggestCharts', [key], {});\n",
       "      } catch (error) {\n",
       "        console.error('Error during call to suggestCharts:', error);\n",
       "      }\n",
       "      quickchartButtonEl.classList.remove('colab-df-spinner');\n",
       "      quickchartButtonEl.classList.add('colab-df-quickchart-complete');\n",
       "    }\n",
       "    (() => {\n",
       "      let quickchartButtonEl =\n",
       "        document.querySelector('#df-9a8d0d88-ac09-4348-b67b-0a09db053397 button');\n",
       "      quickchartButtonEl.style.display =\n",
       "        google.colab.kernel.accessAllowed ? 'block' : 'none';\n",
       "    })();\n",
       "  </script>\n",
       "</div>\n",
       "    </div>\n",
       "  </div>\n"
      ],
      "text/plain": [
       "  QuestionID                       Question DocumentID DocumentTitle  \\\n",
       "0         Q1  how are glacier caves formed?         D1  Glacier cave   \n",
       "1         Q1  how are glacier caves formed?         D1  Glacier cave   \n",
       "2         Q1  how are glacier caves formed?         D1  Glacier cave   \n",
       "3         Q1  how are glacier caves formed?         D1  Glacier cave   \n",
       "4         Q1  how are glacier caves formed?         D1  Glacier cave   \n",
       "\n",
       "  SentenceID                                           Sentence  Label  \n",
       "0       D1-0  A partly submerged glacier cave on Perito More...      0  \n",
       "1       D1-1          The ice facade is approximately 60 m high      0  \n",
       "2       D1-2          Ice formations in the Titlis glacier cave      0  \n",
       "3       D1-3  A glacier cave is a cave formed within the ice...      1  \n",
       "4       D1-4  Glacier caves are often called ice caves , but...      0  "
      ]
     },
     "execution_count": 2,
     "metadata": {},
     "output_type": "execute_result"
    }
   ],
   "source": [
    "# Load datasets\n",
    "train_data_path = 'WikiQA-train.tsv'\n",
    "dev_data_path = 'WikiQA-dev.tsv'\n",
    "test_data_path = 'WikiQA-test.tsv'\n",
    "\n",
    "train_data = pd.read_csv(train_data_path, sep='\\t', encoding='utf-8')\n",
    "dev_data = pd.read_csv(dev_data_path, sep='\\t', encoding='utf-8')\n",
    "test_data = pd.read_csv(test_data_path, sep='\\t', encoding='utf-8')\n",
    "\n",
    "train_data.head()"
   ]
  },
  {
   "cell_type": "code",
   "execution_count": 3,
   "metadata": {
    "colab": {
     "base_uri": "https://localhost:8080/",
     "height": 472
    },
    "id": "BrKxMR9tQpjZ",
    "outputId": "7acef29d-30b1-49ae-fa13-719fdc652afa"
   },
   "outputs": [
    {
     "data": {
      "image/png": "[encoded data removed]",
      "text/plain": [
       "<Figure size 640x480 with 1 Axes>"
      ]
     },
     "metadata": {},
     "output_type": "display_data"
    }
   ],
   "source": [
    "texts = train_data['Question'].tolist() + train_data['Sentence'].tolist()\n",
    "# Check sequence length\n",
    "sequence_lengths = [len(text.split()) for text in texts]\n",
    "plt.hist(sequence_lengths, bins=30)\n",
    "plt.title('Sequence Length Distribution')\n",
    "plt.xlabel('Length of Sequences')\n",
    "plt.ylabel('Frequency')\n",
    "plt.show()"
   ]
  },
  {
   "cell_type": "code",
   "execution_count": 4,
   "metadata": {
    "colab": {
     "base_uri": "https://localhost:8080/"
    },
    "id": "3Tq4hvrCR8h7",
    "outputId": "70b4dfdc-6fdd-456b-df88-5d13db4b20b3"
   },
   "outputs": [
    {
     "name": "stdout",
     "output_type": "stream",
     "text": [
      "Total unique words: 57622\n"
     ]
    }
   ],
   "source": [
    "# Check unique words\n",
    "word_counts = Counter(word for text in texts for word in text.split())\n",
    "print(\"Total unique words:\", len(word_counts))"
   ]
  },
  {
   "cell_type": "code",
   "execution_count": 5,
   "metadata": {
    "colab": {
     "base_uri": "https://localhost:8080/",
     "height": 489
    },
    "id": "VnfIeCDaSGOE",
    "outputId": "8ab6b517-b048-4db1-f86b-43b87d725381"
   },
   "outputs": [
    {
     "data": {
      "application/vnd.google.colaboratory.intrinsic+json": {
       "summary": "{\n  \"name\": \"train_data\",\n  \"rows\": 2117,\n  \"fields\": [\n    {\n      \"column\": \"Question\",\n      \"properties\": {\n        \"dtype\": \"string\",\n        \"num_unique_values\": 2117,\n        \"samples\": [\n          \"how many innings in overtime in baseball\",\n          \"what is it like at mount rushmore?\",\n          \"how did wild bill's father die\"\n        ],\n        \"semantic_type\": \"\",\n        \"description\": \"\"\n      }\n    },\n    {\n      \"column\": \"DocumentID\",\n      \"properties\": {\n        \"dtype\": \"number\",\n        \"std\": 6,\n        \"min\": 1,\n        \"max\": 30,\n        \"num_unique_values\": 30,\n        \"samples\": [\n          22,\n          2,\n          19\n        ],\n        \"semantic_type\": \"\",\n        \"description\": \"\"\n      }\n    },\n    {\n      \"column\": \"DocumentTitle\",\n      \"properties\": {\n        \"dtype\": \"number\",\n        \"std\": 6,\n        \"min\": 1,\n        \"max\": 30,\n        \"num_unique_values\": 30,\n        \"samples\": [\n          22,\n          2,\n          19\n        ],\n        \"semantic_type\": \"\",\n        \"description\": \"\"\n      }\n    },\n    {\n      \"column\": \"Label\",\n      \"properties\": {\n        \"dtype\": \"number\",\n        \"std\": 6,\n        \"min\": 1,\n        \"max\": 30,\n        \"num_unique_values\": 30,\n        \"samples\": [\n          22,\n          2,\n          19\n        ],\n        \"semantic_type\": \"\",\n        \"description\": \"\"\n      }\n    },\n    {\n      \"column\": \"QuestionID\",\n      \"properties\": {\n        \"dtype\": \"number\",\n        \"std\": 6,\n        \"min\": 1,\n        \"max\": 30,\n        \"num_unique_values\": 30,\n        \"samples\": [\n          22,\n          2,\n          19\n        ],\n        \"semantic_type\": \"\",\n        \"description\": \"\"\n      }\n    },\n    {\n      \"column\": \"Sentence\",\n      \"properties\": {\n        \"dtype\": \"number\",\n        \"std\": 6,\n        \"min\": 1,\n        \"max\": 30,\n        \"num_unique_values\": 30,\n        \"samples\": [\n          22,\n          2,\n          19\n        ],\n        \"semantic_type\": \"\",\n        \"description\": \"\"\n      }\n    },\n    {\n      \"column\": \"SentenceID\",\n      \"properties\": {\n        \"dtype\": \"number\",\n        \"std\": 6,\n        \"min\": 1,\n        \"max\": 30,\n        \"num_unique_values\": 30,\n        \"samples\": [\n          22,\n          2,\n          19\n        ],\n        \"semantic_type\": \"\",\n        \"description\": \"\"\n      }\n    }\n  ]\n}",
       "type": "dataframe"
      },
      "text/html": [
       "\n",
       "  <div id=\"df-8a648902-1e0f-4b71-85b3-3dc8f7ca9123\" class=\"colab-df-container\">\n",
       "    <div>\n",
       "<style scoped>\n",
       "    .dataframe tbody tr th:only-of-type {\n",
       "        vertical-align: middle;\n",
       "    }\n",
       "\n",
       "    .dataframe tbody tr th {\n",
       "        vertical-align: top;\n",
       "    }\n",
       "\n",
       "    .dataframe thead th {\n",
       "        text-align: right;\n",
       "    }\n",
       "</style>\n",
       "<table border=\"1\" class=\"dataframe\">\n",
       "  <thead>\n",
       "    <tr style=\"text-align: right;\">\n",
       "      <th></th>\n",
       "      <th>DocumentID</th>\n",
       "      <th>DocumentTitle</th>\n",
       "      <th>Label</th>\n",
       "      <th>QuestionID</th>\n",
       "      <th>Sentence</th>\n",
       "      <th>SentenceID</th>\n",
       "    </tr>\n",
       "    <tr>\n",
       "      <th>Question</th>\n",
       "      <th></th>\n",
       "      <th></th>\n",
       "      <th></th>\n",
       "      <th></th>\n",
       "      <th></th>\n",
       "      <th></th>\n",
       "    </tr>\n",
       "  </thead>\n",
       "  <tbody>\n",
       "    <tr>\n",
       "      <th>HOW MANY BROTHELS WERE THERE IN THE UNITED STATES IN 1840'S</th>\n",
       "      <td>9</td>\n",
       "      <td>9</td>\n",
       "      <td>9</td>\n",
       "      <td>9</td>\n",
       "      <td>9</td>\n",
       "      <td>9</td>\n",
       "    </tr>\n",
       "    <tr>\n",
       "      <th>HOW MANY STRIPES ARE ON THE AMERICAN FLAG</th>\n",
       "      <td>3</td>\n",
       "      <td>3</td>\n",
       "      <td>3</td>\n",
       "      <td>3</td>\n",
       "      <td>3</td>\n",
       "      <td>3</td>\n",
       "    </tr>\n",
       "    <tr>\n",
       "      <th>How Did Paul Bragg Die</th>\n",
       "      <td>1</td>\n",
       "      <td>1</td>\n",
       "      <td>1</td>\n",
       "      <td>1</td>\n",
       "      <td>1</td>\n",
       "      <td>1</td>\n",
       "    </tr>\n",
       "    <tr>\n",
       "      <th>How Do You Find the mean of the squares of the first 10 counting numbers</th>\n",
       "      <td>12</td>\n",
       "      <td>12</td>\n",
       "      <td>12</td>\n",
       "      <td>12</td>\n",
       "      <td>12</td>\n",
       "      <td>12</td>\n",
       "    </tr>\n",
       "    <tr>\n",
       "      <th>How Do You Get Hepatitis C</th>\n",
       "      <td>13</td>\n",
       "      <td>13</td>\n",
       "      <td>13</td>\n",
       "      <td>13</td>\n",
       "      <td>13</td>\n",
       "      <td>13</td>\n",
       "    </tr>\n",
       "    <tr>\n",
       "      <th>...</th>\n",
       "      <td>...</td>\n",
       "      <td>...</td>\n",
       "      <td>...</td>\n",
       "      <td>...</td>\n",
       "      <td>...</td>\n",
       "      <td>...</td>\n",
       "    </tr>\n",
       "    <tr>\n",
       "      <th>who wrote the song cocaine</th>\n",
       "      <td>5</td>\n",
       "      <td>5</td>\n",
       "      <td>5</td>\n",
       "      <td>5</td>\n",
       "      <td>5</td>\n",
       "      <td>5</td>\n",
       "    </tr>\n",
       "    <tr>\n",
       "      <th>who wrote the song feelin alright</th>\n",
       "      <td>6</td>\n",
       "      <td>6</td>\n",
       "      <td>6</td>\n",
       "      <td>6</td>\n",
       "      <td>6</td>\n",
       "      <td>6</td>\n",
       "    </tr>\n",
       "    <tr>\n",
       "      <th>who wrote the song in the mood</th>\n",
       "      <td>3</td>\n",
       "      <td>3</td>\n",
       "      <td>3</td>\n",
       "      <td>3</td>\n",
       "      <td>3</td>\n",
       "      <td>3</td>\n",
       "    </tr>\n",
       "    <tr>\n",
       "      <th>who wrote what's my name rihanna</th>\n",
       "      <td>11</td>\n",
       "      <td>11</td>\n",
       "      <td>11</td>\n",
       "      <td>11</td>\n",
       "      <td>11</td>\n",
       "      <td>11</td>\n",
       "    </tr>\n",
       "    <tr>\n",
       "      <th>who wrote white christmas</th>\n",
       "      <td>7</td>\n",
       "      <td>7</td>\n",
       "      <td>7</td>\n",
       "      <td>7</td>\n",
       "      <td>7</td>\n",
       "      <td>7</td>\n",
       "    </tr>\n",
       "  </tbody>\n",
       "</table>\n",
       "<p>2117 rows × 6 columns</p>\n",
       "</div>\n",
       "    <div class=\"colab-df-buttons\">\n",
       "\n",
       "  <div class=\"colab-df-container\">\n",
       "    <button class=\"colab-df-convert\" onclick=\"convertToInteractive('df-8a648902-1e0f-4b71-85b3-3dc8f7ca9123')\"\n",
       "            title=\"Convert this dataframe to an interactive table.\"\n",
       "            style=\"display:none;\">\n",
       "\n",
       "  <svg xmlns=\"http://www.w3.org/2000/svg\" height=\"24px\" viewBox=\"0 -960 960 960\">\n",
       "    <path d=\"M120-120v-720h720v720H120Zm60-500h600v-160H180v160Zm220 220h160v-160H400v160Zm0 220h160v-160H400v160ZM180-400h160v-160H180v160Zm440 0h160v-160H620v160ZM180-180h160v-160H180v160Zm440 0h160v-160H620v160Z\"/>\n",
       "  </svg>\n",
       "    </button>\n",
       "\n",
       "  <style>\n",
       "    .colab-df-container {\n",
       "      display:flex;\n",
       "      gap: 12px;\n",
       "    }\n",
       "\n",
       "    .colab-df-convert {\n",
       "      background-color: #E8F0FE;\n",
       "      border: none;\n",
       "      border-radius: 50%;\n",
       "      cursor: pointer;\n",
       "      display: none;\n",
       "      fill: #1967D2;\n",
       "      height: 32px;\n",
       "      padding: 0 0 0 0;\n",
       "      width: 32px;\n",
       "    }\n",
       "\n",
       "    .colab-df-convert:hover {\n",
       "      background-color: #E2EBFA;\n",
       "      box-shadow: 0px 1px 2px rgba(60, 64, 67, 0.3), 0px 1px 3px 1px rgba(60, 64, 67, 0.15);\n",
       "      fill: #174EA6;\n",
       "    }\n",
       "\n",
       "    .colab-df-buttons div {\n",
       "      margin-bottom: 4px;\n",
       "    }\n",
       "\n",
       "    [theme=dark] .colab-df-convert {\n",
       "      background-color: #3B4455;\n",
       "      fill: #D2E3FC;\n",
       "    }\n",
       "\n",
       "    [theme=dark] .colab-df-convert:hover {\n",
       "      background-color: #434B5C;\n",
       "      box-shadow: 0px 1px 3px 1px rgba(0, 0, 0, 0.15);\n",
       "      filter: drop-shadow(0px 1px 2px rgba(0, 0, 0, 0.3));\n",
       "      fill: #FFFFFF;\n",
       "    }\n",
       "  </style>\n",
       "\n",
       "    <script>\n",
       "      const buttonEl =\n",
       "        document.querySelector('#df-8a648902-1e0f-4b71-85b3-3dc8f7ca9123 button.colab-df-convert');\n",
       "      buttonEl.style.display =\n",
       "        google.colab.kernel.accessAllowed ? 'block' : 'none';\n",
       "\n",
       "      async function convertToInteractive(key) {\n",
       "        const element = document.querySelector('#df-8a648902-1e0f-4b71-85b3-3dc8f7ca9123');\n",
       "        const dataTable =\n",
       "          await google.colab.kernel.invokeFunction('convertToInteractive',\n",
       "                                                    [key], {});\n",
       "        if (!dataTable) return;\n",
       "\n",
       "        const docLinkHtml = 'Like what you see? Visit the ' +\n",
       "          '<a target=\"_blank\" href=https://colab.research.google.com/notebooks/data_table.ipynb>data table notebook</a>'\n",
       "          + ' to learn more about interactive tables.';\n",
       "        element.innerHTML = '';\n",
       "        dataTable['output_type'] = 'display_data';\n",
       "        await google.colab.output.renderOutput(dataTable, element);\n",
       "        const docLink = document.createElement('div');\n",
       "        docLink.innerHTML = docLinkHtml;\n",
       "        element.appendChild(docLink);\n",
       "      }\n",
       "    </script>\n",
       "  </div>\n",
       "\n",
       "\n",
       "<div id=\"df-328b714b-bda9-4352-99ab-6d4418165ee0\">\n",
       "  <button class=\"colab-df-quickchart\" onclick=\"quickchart('df-328b714b-bda9-4352-99ab-6d4418165ee0')\"\n",
       "            title=\"Suggest charts\"\n",
       "            style=\"display:none;\">\n",
       "\n",
       "<svg xmlns=\"http://www.w3.org/2000/svg\" height=\"24px\"viewBox=\"0 0 24 24\"\n",
       "     width=\"24px\">\n",
       "    <g>\n",
       "        <path d=\"M19 3H5c-1.1 0-2 .9-2 2v14c0 1.1.9 2 2 2h14c1.1 0 2-.9 2-2V5c0-1.1-.9-2-2-2zM9 17H7v-7h2v7zm4 0h-2V7h2v10zm4 0h-2v-4h2v4z\"/>\n",
       "    </g>\n",
       "</svg>\n",
       "  </button>\n",
       "\n",
       "<style>\n",
       "  .colab-df-quickchart {\n",
       "      --bg-color: #E8F0FE;\n",
       "      --fill-color: #1967D2;\n",
       "      --hover-bg-color: #E2EBFA;\n",
       "      --hover-fill-color: #174EA6;\n",
       "      --disabled-fill-color: #AAA;\n",
       "      --disabled-bg-color: #DDD;\n",
       "  }\n",
       "\n",
       "  [theme=dark] .colab-df-quickchart {\n",
       "      --bg-color: #3B4455;\n",
       "      --fill-color: #D2E3FC;\n",
       "      --hover-bg-color: #434B5C;\n",
       "      --hover-fill-color: #FFFFFF;\n",
       "      --disabled-bg-color: #3B4455;\n",
       "      --disabled-fill-color: #666;\n",
       "  }\n",
       "\n",
       "  .colab-df-quickchart {\n",
       "    background-color: var(--bg-color);\n",
       "    border: none;\n",
       "    border-radius: 50%;\n",
       "    cursor: pointer;\n",
       "    display: none;\n",
       "    fill: var(--fill-color);\n",
       "    height: 32px;\n",
       "    padding: 0;\n",
       "    width: 32px;\n",
       "  }\n",
       "\n",
       "  .colab-df-quickchart:hover {\n",
       "    background-color: var(--hover-bg-color);\n",
       "    box-shadow: 0 1px 2px rgba(60, 64, 67, 0.3), 0 1px 3px 1px rgba(60, 64, 67, 0.15);\n",
       "    fill: var(--button-hover-fill-color);\n",
       "  }\n",
       "\n",
       "  .colab-df-quickchart-complete:disabled,\n",
       "  .colab-df-quickchart-complete:disabled:hover {\n",
       "    background-color: var(--disabled-bg-color);\n",
       "    fill: var(--disabled-fill-color);\n",
       "    box-shadow: none;\n",
       "  }\n",
       "\n",
       "  .colab-df-spinner {\n",
       "    border: 2px solid var(--fill-color);\n",
       "    border-color: transparent;\n",
       "    border-bottom-color: var(--fill-color);\n",
       "    animation:\n",
       "      spin 1s steps(1) infinite;\n",
       "  }\n",
       "\n",
       "  @keyframes spin {\n",
       "    0% {\n",
       "      border-color: transparent;\n",
       "      border-bottom-color: var(--fill-color);\n",
       "      border-left-color: var(--fill-color);\n",
       "    }\n",
       "    20% {\n",
       "      border-color: transparent;\n",
       "      border-left-color: var(--fill-color);\n",
       "      border-top-color: var(--fill-color);\n",
       "    }\n",
       "    30% {\n",
       "      border-color: transparent;\n",
       "      border-left-color: var(--fill-color);\n",
       "      border-top-color: var(--fill-color);\n",
       "      border-right-color: var(--fill-color);\n",
       "    }\n",
       "    40% {\n",
       "      border-color: transparent;\n",
       "      border-right-color: var(--fill-color);\n",
       "      border-top-color: var(--fill-color);\n",
       "    }\n",
       "    60% {\n",
       "      border-color: transparent;\n",
       "      border-right-color: var(--fill-color);\n",
       "    }\n",
       "    80% {\n",
       "      border-color: transparent;\n",
       "      border-right-color: var(--fill-color);\n",
       "      border-bottom-color: var(--fill-color);\n",
       "    }\n",
       "    90% {\n",
       "      border-color: transparent;\n",
       "      border-bottom-color: var(--fill-color);\n",
       "    }\n",
       "  }\n",
       "</style>\n",
       "\n",
       "  <script>\n",
       "    async function quickchart(key) {\n",
       "      const quickchartButtonEl =\n",
       "        document.querySelector('#' + key + ' button');\n",
       "      quickchartButtonEl.disabled = true;  // To prevent multiple clicks.\n",
       "      quickchartButtonEl.classList.add('colab-df-spinner');\n",
       "      try {\n",
       "        const charts = await google.colab.kernel.invokeFunction(\n",
       "            'suggestCharts', [key], {});\n",
       "      } catch (error) {\n",
       "        console.error('Error during call to suggestCharts:', error);\n",
       "      }\n",
       "      quickchartButtonEl.classList.remove('colab-df-spinner');\n",
       "      quickchartButtonEl.classList.add('colab-df-quickchart-complete');\n",
       "    }\n",
       "    (() => {\n",
       "      let quickchartButtonEl =\n",
       "        document.querySelector('#df-328b714b-bda9-4352-99ab-6d4418165ee0 button');\n",
       "      quickchartButtonEl.style.display =\n",
       "        google.colab.kernel.accessAllowed ? 'block' : 'none';\n",
       "    })();\n",
       "  </script>\n",
       "</div>\n",
       "    </div>\n",
       "  </div>\n"
      ],
      "text/plain": [
       "                                                    DocumentID  DocumentTitle  \\\n",
       "Question                                                                        \n",
       "HOW MANY BROTHELS WERE THERE IN THE UNITED STAT...           9              9   \n",
       "HOW MANY STRIPES ARE ON THE AMERICAN FLAG                    3              3   \n",
       "How Did Paul Bragg Die                                       1              1   \n",
       "How Do You Find the mean of the squares of the ...          12             12   \n",
       "How Do You Get Hepatitis C                                  13             13   \n",
       "...                                                        ...            ...   \n",
       "who wrote the song cocaine                                   5              5   \n",
       "who wrote the song feelin alright                            6              6   \n",
       "who wrote the song in the mood                               3              3   \n",
       "who wrote what's my name rihanna                            11             11   \n",
       "who wrote white christmas                                    7              7   \n",
       "\n",
       "                                                    Label  QuestionID  \\\n",
       "Question                                                                \n",
       "HOW MANY BROTHELS WERE THERE IN THE UNITED STAT...      9           9   \n",
       "HOW MANY STRIPES ARE ON THE AMERICAN FLAG               3           3   \n",
       "How Did Paul Bragg Die                                  1           1   \n",
       "How Do You Find the mean of the squares of the ...     12          12   \n",
       "How Do You Get Hepatitis C                             13          13   \n",
       "...                                                   ...         ...   \n",
       "who wrote the song cocaine                              5           5   \n",
       "who wrote the song feelin alright                       6           6   \n",
       "who wrote the song in the mood                          3           3   \n",
       "who wrote what's my name rihanna                       11          11   \n",
       "who wrote white christmas                               7           7   \n",
       "\n",
       "                                                    Sentence  SentenceID  \n",
       "Question                                                                  \n",
       "HOW MANY BROTHELS WERE THERE IN THE UNITED STAT...         9           9  \n",
       "HOW MANY STRIPES ARE ON THE AMERICAN FLAG                  3           3  \n",
       "How Did Paul Bragg Die                                     1           1  \n",
       "How Do You Find the mean of the squares of the ...        12          12  \n",
       "How Do You Get Hepatitis C                                13          13  \n",
       "...                                                      ...         ...  \n",
       "who wrote the song cocaine                                 5           5  \n",
       "who wrote the song feelin alright                          6           6  \n",
       "who wrote the song in the mood                             3           3  \n",
       "who wrote what's my name rihanna                          11          11  \n",
       "who wrote white christmas                                  7           7  \n",
       "\n",
       "[2117 rows x 6 columns]"
      ]
     },
     "execution_count": 5,
     "metadata": {},
     "output_type": "execute_result"
    }
   ],
   "source": [
    "train_data.pivot_table(index=[f'Question'], aggfunc='count')"
   ]
  },
  {
   "cell_type": "code",
   "execution_count": 6,
   "metadata": {
    "colab": {
     "base_uri": "https://localhost:8080/"
    },
    "id": "jb-nxMnJSMUr",
    "outputId": "6a3d75f7-0948-44e2-8ad3-b92197c4d815"
   },
   "outputs": [
    {
     "data": {
      "text/plain": [
       "Question\n",
       "HOW MANY BROTHELS WERE THERE IN THE UNITED STATES IN 1840'S                  9\n",
       "HOW MANY STRIPES ARE ON THE AMERICAN FLAG                                    3\n",
       "How Did Paul Bragg Die                                                       1\n",
       "How Do You Find the mean of the squares of the first 10 counting numbers    12\n",
       "How Do You Get Hepatitis C                                                  13\n",
       "                                                                            ..\n",
       "who wrote the song cocaine                                                   5\n",
       "who wrote the song feelin alright                                            6\n",
       "who wrote the song in the mood                                               3\n",
       "who wrote what's my name rihanna                                            11\n",
       "who wrote white christmas                                                    7\n",
       "Length: 2117, dtype: int64"
      ]
     },
     "execution_count": 6,
     "metadata": {},
     "output_type": "execute_result"
    }
   ],
   "source": [
    "train_data.pivot_table(index=[f'Question'], aggfunc='size')"
   ]
  },
  {
   "cell_type": "code",
   "execution_count": 7,
   "metadata": {
    "colab": {
     "base_uri": "https://localhost:8080/"
    },
    "id": "hg5aXyg4SM5w",
    "outputId": "794210dc-ad3b-42e4-c51f-37445a8f8ff9"
   },
   "outputs": [
    {
     "name": "stdout",
     "output_type": "stream",
     "text": [
      "Top 10 common words in Question [('what', 9201), ('the', 8473), ('is', 6993), ('in', 4021), ('how', 3999), ('of', 3300), ('who', 2348), ('was', 2238), ('are', 2102), ('did', 2056)]\n",
      "Top 10 common words in Answer [('the', 28792), ('of', 17054), ('and', 14188), ('in', 10683), ('a', 9045), (',', 8596), ('to', 8317), ('is', 6857), ('.', 5217), ('The', 4996)]\n"
     ]
    }
   ],
   "source": [
    "# Check common words\n",
    "def word_count(text_series):\n",
    "    counts = Counter()\n",
    "    for i in text_series:\n",
    "        counts.update(i.split())\n",
    "    return counts\n",
    "\n",
    "question_words = word_count(train_data['Question'])\n",
    "answer_words = word_count(train_data['Sentence'])\n",
    "\n",
    "print(f'Top 10 common words in Question', question_words.most_common(10))\n",
    "print(f'Top 10 common words in Answer', answer_words.most_common(10))"
   ]
  },
  {
   "cell_type": "code",
   "execution_count": 8,
   "metadata": {
    "id": "6a9JlLpfSSac"
   },
   "outputs": [],
   "source": [
    "# Change data into string\n",
    "train_data['Question'] = train_data['Question'].astype(str)\n",
    "train_data['Sentence'] = train_data['Sentence'].astype(str)"
   ]
  },
  {
   "cell_type": "code",
   "execution_count": 9,
   "metadata": {
    "colab": {
     "base_uri": "https://localhost:8080/",
     "height": 486
    },
    "id": "9B9AlMuvSXOY",
    "outputId": "d138d392-5c8a-415a-be13-66d3d5301bdc"
   },
   "outputs": [
    {
     "data": {
      "image/png": "[encoded data removed]",
      "text/plain": [
       "<Figure size 1400x600 with 2 Axes>"
      ]
     },
     "metadata": {},
     "output_type": "display_data"
    }
   ],
   "source": [
    "# Sequences length distribution\n",
    "train_data['Question_Length'] = train_data['Question'].apply(len)\n",
    "train_data['Answer_Length'] = train_data['Sentence'].apply(len)\n",
    "\n",
    "plt.figure(figsize=(14, 6))\n",
    "\n",
    "plt.subplot(1, 2, 1)\n",
    "sns.histplot(train_data['Question_Length'], kde=True)\n",
    "plt.title('Question Length Distribution')\n",
    "\n",
    "plt.subplot(1, 2, 2)\n",
    "sns.histplot(train_data['Answer_Length'], kde=True)\n",
    "plt.title('Answer Length Distribution')\n",
    "plt.show()"
   ]
  },
  {
   "cell_type": "code",
   "execution_count": 10,
   "metadata": {
    "colab": {
     "base_uri": "https://localhost:8080/"
    },
    "id": "i6aCf9HTSh3t",
    "outputId": "d3ca03d6-bd5c-4b4d-9398-f15775021ffc"
   },
   "outputs": [
    {
     "name": "stdout",
     "output_type": "stream",
     "text": [
      "<class 'pandas.core.frame.DataFrame'>\n",
      "Index: 3152 entries, 9 to 20343\n",
      "Data columns (total 9 columns):\n",
      " #   Column           Non-Null Count  Dtype \n",
      "---  ------           --------------  ----- \n",
      " 0   QuestionID       3152 non-null   object\n",
      " 1   Question         3152 non-null   object\n",
      " 2   DocumentID       3152 non-null   object\n",
      " 3   DocumentTitle    3152 non-null   object\n",
      " 4   SentenceID       3152 non-null   object\n",
      " 5   Sentence         3152 non-null   object\n",
      " 6   Label            3152 non-null   int64 \n",
      " 7   Question_Length  3152 non-null   int64 \n",
      " 8   Answer_Length    3152 non-null   int64 \n",
      "dtypes: int64(3), object(6)\n",
      "memory usage: 246.2+ KB\n",
      "None\n"
     ]
    }
   ],
   "source": [
    "df_QA_longlength = train_data[(train_data['Question_Length'] > 200) | (train_data['Answer_Length'] > 200)]\n",
    "\n",
    "print(df_QA_longlength.info())"
   ]
  },
  {
   "cell_type": "code",
   "execution_count": 11,
   "metadata": {
    "id": "eRTfcHp5SjW9"
   },
   "outputs": [],
   "source": [
    "# Sentiment analysis\n",
    "def sentiment(text):\n",
    "    return TextBlob(text).sentiment.polarity"
   ]
  },
  {
   "cell_type": "code",
   "execution_count": 12,
   "metadata": {
    "colab": {
     "base_uri": "https://localhost:8080/",
     "height": 531
    },
    "id": "YtRIzAptSo6K",
    "outputId": "6886b335-b978-41a0-be29-609b13c03f49"
   },
   "outputs": [
    {
     "data": {
      "image/png": "[encoded data removed]",
      "text/plain": [
       "<Figure size 1200x600 with 1 Axes>"
      ]
     },
     "metadata": {},
     "output_type": "display_data"
    }
   ],
   "source": [
    "train_data['Question_Sentiment'] = train_data['Question'].apply(sentiment)\n",
    "train_data['Answer_Sentiment'] = train_data['Sentence'].apply(sentiment)\n",
    "\n",
    "plt.figure(figsize=(12, 6))\n",
    "sns.histplot(train_data['Question_Sentiment'], bins=20, kde=True, color='blue', label='Question Sentiment')\n",
    "sns.histplot(train_data['Answer_Sentiment'], bins=20, kde=True, color='red', label='Answer Sentiment')\n",
    "plt.legend()\n",
    "plt.show()"
   ]
  },
  {
   "cell_type": "code",
   "execution_count": null,
   "metadata": {
    "colab": {
     "base_uri": "https://localhost:8080/"
    },
    "id": "QdMaWh-DSqge",
    "outputId": "692d206d-6e98-4623-b67e-7eae3892c51c"
   },
   "outputs": [],
   "source": [
    "df_QA_highlowscore = train_data[(train_data['Question_Sentiment'] >= 0.5) | (train_data['Question_Sentiment'] <= -0.5) | (train_data['Answer_Sentiment'] >= 0.5) | (train_data['Answer_Sentiment'] <= -0.5)]\n",
    "\n",
    "print(df_QA_highlowscore.info())"
   ]
  },
  {
   "cell_type": "markdown",
   "metadata": {},
   "source": [
    "<div style=\"border-top: 7px solid #800080; animation: sparkling 2s linear infinite;\"></div>\n",
    "\n",
    "<style>\n",
    "@keyframes sparkling {\n",
    "  0% { background-position: 0 0; }\n",
    "  100% { background-position: 100% 0; }\n",
    "}\n",
    "</style>"
   ]
  },
  {
   "cell_type": "markdown",
   "metadata": {
    "id": "rp9PUV29S0WU"
   },
   "source": [
    "**Data Processing for SeqtoSeq Model**"
   ]
  },
  {
   "cell_type": "code",
   "execution_count": 54,
   "metadata": {
    "id": "_oU97Ju3_aMt"
   },
   "outputs": [],
   "source": [
    "class ChatbotPreprocessor:\n",
    "    def __init__(self, max_len=50, num_words=10000, oov_token=\"<UNK>\", sos_token=\"<SOS>\", eos_token=\"<EOS>\", pad_token=\"<PAD>\"):\n",
    "        self.max_len = max_len\n",
    "        self.num_words = num_words\n",
    "        self.oov_token = oov_token\n",
    "        self.sos_token = sos_token\n",
    "        self.eos_token = eos_token\n",
    "        self.pad_token = pad_token\n",
    "        self.tokenizer = Tokenizer(num_words=self.num_words, oov_token=oov_token)\n",
    "        self.index_word = {}  # Initialize the reverse lookup dictionary\n",
    "\n",
    "    def fit(self, texts):\n",
    "        # Append and prepend special tokens to texts\n",
    "        texts = [self.sos_token + \" \" + text + \" \" + self.eos_token for text in texts]\n",
    "        self.tokenizer.fit_on_texts(texts)\n",
    "\n",
    "        # Reserve indices for special tokens with their respective fixed indices\n",
    "        special_tokens = {\n",
    "            self.pad_token: 0,\n",
    "            self.sos_token: 1,\n",
    "            self.eos_token: 2,\n",
    "            self.oov_token: 3\n",
    "        }\n",
    "\n",
    "        # Calculate word frequencies from tokenizer's internal dictionary\n",
    "        word_counts = self.tokenizer.word_counts\n",
    "\n",
    "        # Filter out words that appear less than 3 times\n",
    "        filtered_words = {word: count for word, count in word_counts.items() if count >= 3 and word not in special_tokens.keys()}\n",
    "\n",
    "        # Adjust word_index and reserve indices for special tokens\n",
    "        updated_word_index = {}\n",
    "        current_index = max(special_tokens.values()) + 1  # Start indices after special tokens\n",
    "        for word in filtered_words:\n",
    "            updated_word_index[word] = current_index\n",
    "            current_index += 1\n",
    "\n",
    "        # Include special tokens last to ensure their fixed positions\n",
    "        updated_word_index.update(special_tokens)\n",
    "\n",
    "        # Trim the dictionary to respect the num_words limit\n",
    "        self.tokenizer.word_index = {word: idx for word, idx in sorted(updated_word_index.items(), key=lambda item: item[1]) if idx < self.num_words + len(special_tokens)}\n",
    "\n",
    "        # Rebuild index_word from the updated word_index\n",
    "        self.index_word = {idx: word for word, idx in self.tokenizer.word_index.items()}\n",
    "\n",
    "    def transform(self, texts, is_target=False):\n",
    "        sequences = self.tokenizer.texts_to_sequences(texts)\n",
    "        if is_target:\n",
    "            sequences = [[self.tokenizer.word_index[self.sos_token]] + seq + [self.tokenizer.word_index[self.eos_token]] for seq in sequences]\n",
    "\n",
    "        pad_value = self.tokenizer.word_index[self.pad_token]\n",
    "        padded_sequences = pad_sequences(sequences, maxlen=self.max_len, padding='post', truncating='post', value=pad_value)\n",
    "        return padded_sequences\n",
    "\n",
    "    def prepare_data(self, df, is_train=False):\n",
    "        if is_train:\n",
    "            texts = df['Question'].tolist() + df['Sentence'].tolist()\n",
    "            self.fit(texts)\n",
    "\n",
    "        question_seqs = self.transform(df['Question'].tolist())\n",
    "        answer_seqs = self.transform(df['Sentence'].tolist(), is_target=True)\n",
    "        return question_seqs, answer_seqs\n",
    "\n",
    "    def index_to_word(self, index):\n",
    "        return self.index_word.get(index, None)"
   ]
  },
  {
   "cell_type": "markdown",
   "metadata": {},
   "source": [
    "<div style=\"border-top: 7px solid #800080; animation: sparkling 2s linear infinite;\"></div>\n",
    "\n",
    "<style>\n",
    "@keyframes sparkling {\n",
    "  0% { background-position: 0 0; }\n",
    "  100% { background-position: 100% 0; }\n",
    "}\n",
    "</style>"
   ]
  },
  {
   "cell_type": "markdown",
   "metadata": {
    "id": "HZKwl_cMS9kW"
   },
   "source": [
    "**Model Architecture without Attention**\n",
    "- Define Encoder, Decoder, SeqtoSeq Models\n",
    "- Training\n",
    "- Evaluation"
   ]
  },
  {
   "cell_type": "code",
   "execution_count": 15,
   "metadata": {
    "id": "rUlu0400_wh8"
   },
   "outputs": [],
   "source": [
    "class Encoder(Model):\n",
    "    def __init__(self, vocab_size, embedding_dim, enc_units):\n",
    "        super(Encoder, self).__init__()\n",
    "\n",
    "        self.embedding = Embedding(vocab_size, embedding_dim)\n",
    "        self.gru = GRU(enc_units, return_state=True)\n",
    "\n",
    "    def call(self, x):\n",
    "        x = self.embedding(x)\n",
    "        output, state = self.gru(x)\n",
    "        return state"
   ]
  },
  {
   "cell_type": "code",
   "execution_count": 16,
   "metadata": {
    "id": "0bXBgPbv_y7A"
   },
   "outputs": [],
   "source": [
    "class Decoder(Model):\n",
    "    def __init__(self, vocab_size, embedding_dim, dec_units):\n",
    "        super(Decoder, self).__init__()\n",
    "\n",
    "        self.embedding = Embedding(vocab_size, embedding_dim)\n",
    "        self.gru = GRU(dec_units, return_sequences=True, return_state=True)\n",
    "        self.dense = Dense(vocab_size, activation='softmax')\n",
    "\n",
    "    def call(self, x, state):\n",
    "        x = self.embedding(x)\n",
    "        output, state = self.gru(x, initial_state=state)\n",
    "        output = self.dense(output)\n",
    "        return output, state"
   ]
  },
  {
   "cell_type": "code",
   "execution_count": 17,
   "metadata": {
    "id": "IJk5IX7S_0hz"
   },
   "outputs": [],
   "source": [
    "def build_seq2seq_model(vocab_size, embedding_dim, units):\n",
    "    # Define inputs\n",
    "    encoder_inputs = Input(shape=(None,))\n",
    "    decoder_inputs = Input(shape=(None,))\n",
    "\n",
    "    # Create encoder and decoder\n",
    "    encoder = Encoder(vocab_size, embedding_dim, units)\n",
    "    decoder = Decoder(vocab_size, embedding_dim, units)\n",
    "\n",
    "    # Connect encoder and decoder\n",
    "    encoder_state = encoder(encoder_inputs)\n",
    "    decoder_outputs, _ = decoder(decoder_inputs, encoder_state)\n",
    "\n",
    "    # Complete model\n",
    "    model = Model([encoder_inputs, decoder_inputs], decoder_outputs)\n",
    "    model.compile(optimizer='adam', loss='sparse_categorical_crossentropy', metrics=['accuracy'])\n",
    "    return model"
   ]
  },
  {
   "cell_type": "code",
   "execution_count": 18,
   "metadata": {
    "id": "RrWIJdXL_2AJ"
   },
   "outputs": [],
   "source": [
    "preprocessor = ChatbotPreprocessor(max_len=50, num_words=13000)"
   ]
  },
  {
   "cell_type": "code",
   "execution_count": 19,
   "metadata": {
    "id": "OuSHC5xh_34W"
   },
   "outputs": [],
   "source": [
    "# Prepare training data\n",
    "input_train, target_train = preprocessor.prepare_data(train_data, is_train=True)"
   ]
  },
  {
   "cell_type": "code",
   "execution_count": 20,
   "metadata": {
    "id": "_DpAwvdM_5bg"
   },
   "outputs": [],
   "source": [
    "# Reshape data ready for training\n",
    "decoder_input_train = np.hstack([np.ones((target_train.shape[0], 1)), target_train[:, :-1]])\n",
    "decoder_output_train = np.expand_dims(target_train, -1)"
   ]
  },
  {
   "cell_type": "code",
   "execution_count": 21,
   "metadata": {
    "id": "vnr1BJE3_70j"
   },
   "outputs": [],
   "source": [
    "# Prepare validation data\n",
    "input_val, target_val = preprocessor.prepare_data(dev_data, is_train=False)\n",
    "decoder_input_val = np.hstack([np.ones((target_val.shape[0], 1)), target_val[:, :-1]])\n",
    "decoder_output_val = np.expand_dims(target_val, -1)"
   ]
  },
  {
   "cell_type": "code",
   "execution_count": 22,
   "metadata": {
    "colab": {
     "base_uri": "https://localhost:8080/"
    },
    "id": "9yvJnPp7__iy",
    "outputId": "fb993f0f-c918-4e82-da68-b9f6395d3d39"
   },
   "outputs": [
    {
     "name": "stdout",
     "output_type": "stream",
     "text": [
      "Model: \"model\"\n",
      "__________________________________________________________________________________________________\n",
      " Layer (type)                Output Shape                 Param #   Connected to                  \n",
      "==================================================================================================\n",
      " input_1 (InputLayer)        [(None, None)]               0         []                            \n",
      "                                                                                                  \n",
      " input_2 (InputLayer)        [(None, None)]               0         []                            \n",
      "                                                                                                  \n",
      " encoder (Encoder)           (None, 512)                  4512000   ['input_1[0][0]']             \n",
      "                                                                                                  \n",
      " decoder (Decoder)           ((None, None, 13005),        1118356   ['input_2[0][0]',             \n",
      "                              (None, 512))                5          'encoder[0][0]']             \n",
      "                                                                                                  \n",
      "==================================================================================================\n",
      "Total params: 15695565 (59.87 MB)\n",
      "Trainable params: 15695565 (59.87 MB)\n",
      "Non-trainable params: 0 (0.00 Byte)\n",
      "__________________________________________________________________________________________________\n"
     ]
    }
   ],
   "source": [
    "# Build model\n",
    "seq2seq_model = build_seq2seq_model(vocab_size=len(preprocessor.tokenizer.word_index) + 1, embedding_dim=256, units=512)\n",
    "seq2seq_model.summary()"
   ]
  },
  {
   "cell_type": "code",
   "execution_count": 23,
   "metadata": {
    "id": "vde0cvtrACof"
   },
   "outputs": [],
   "source": [
    "# Tracking training\n",
    "early_stopping = EarlyStopping(monitor='val_loss', patience=10, restore_best_weights=True)"
   ]
  },
  {
   "cell_type": "code",
   "execution_count": 25,
   "metadata": {
    "colab": {
     "base_uri": "https://localhost:8080/"
    },
    "id": "o6gfOUk9ADCg",
    "outputId": "5c6aedfb-8fb4-419e-841d-76c2ed5e6c0d"
   },
   "outputs": [
    {
     "name": "stdout",
     "output_type": "stream",
     "text": [
      "Epoch 1/10\n",
      "329/329 [==============================] - 29s 88ms/step - loss: 2.1441 - accuracy: 0.6505 - val_loss: 2.3420 - val_accuracy: 0.6511\n",
      "Epoch 2/10\n",
      "329/329 [==============================] - 29s 89ms/step - loss: 1.9640 - accuracy: 0.6626 - val_loss: 2.3324 - val_accuracy: 0.6527\n",
      "Epoch 3/10\n",
      "329/329 [==============================] - 28s 86ms/step - loss: 1.7899 - accuracy: 0.6770 - val_loss: 2.3303 - val_accuracy: 0.6547\n",
      "Epoch 4/10\n",
      "329/329 [==============================] - 29s 88ms/step - loss: 1.6267 - accuracy: 0.6941 - val_loss: 2.3389 - val_accuracy: 0.6568\n",
      "Epoch 5/10\n",
      "329/329 [==============================] - 29s 88ms/step - loss: 1.4784 - accuracy: 0.7128 - val_loss: 2.3537 - val_accuracy: 0.6568\n",
      "Epoch 6/10\n",
      "329/329 [==============================] - 29s 88ms/step - loss: 1.3483 - accuracy: 0.7314 - val_loss: 2.3736 - val_accuracy: 0.6577\n",
      "Epoch 7/10\n",
      "329/329 [==============================] - 29s 87ms/step - loss: 1.2333 - accuracy: 0.7491 - val_loss: 2.3973 - val_accuracy: 0.6579\n",
      "Epoch 8/10\n",
      "329/329 [==============================] - 29s 89ms/step - loss: 1.1318 - accuracy: 0.7658 - val_loss: 2.4237 - val_accuracy: 0.6578\n",
      "Epoch 9/10\n",
      "329/329 [==============================] - 29s 90ms/step - loss: 1.0419 - accuracy: 0.7812 - val_loss: 2.4592 - val_accuracy: 0.6573\n",
      "Epoch 10/10\n",
      "329/329 [==============================] - 29s 88ms/step - loss: 0.9618 - accuracy: 0.7960 - val_loss: 2.4924 - val_accuracy: 0.6579\n"
     ]
    }
   ],
   "source": [
    "# Train the model\n",
    "history = seq2seq_model.fit(\n",
    "    [input_train, decoder_input_train],\n",
    "    decoder_output_train,\n",
    "    batch_size=62,\n",
    "    epochs=10,\n",
    "    validation_data=([input_val, decoder_input_val], decoder_output_val),\n",
    "    callbacks=[early_stopping]\n",
    ")"
   ]
  },
  {
   "cell_type": "code",
   "execution_count": 26,
   "metadata": {
    "colab": {
     "base_uri": "https://localhost:8080/",
     "height": 545
    },
    "id": "BN9rvtSdTj2a",
    "outputId": "bd4da391-b1c7-4a16-eb38-cdacb9e5ffc0"
   },
   "outputs": [
    {
     "data": {
      "image/png": "[encoded data removed]",
      "text/plain": [
       "<Figure size 1200x600 with 2 Axes>"
      ]
     },
     "metadata": {},
     "output_type": "display_data"
    }
   ],
   "source": [
    "# Disply training flow\n",
    "plt.figure(figsize=(12, 6))\n",
    "plt.subplot(1, 2, 1)\n",
    "plt.plot(history.history['accuracy'], label='Training Accuracy')\n",
    "plt.plot(history.history['val_accuracy'], label='Validation Accuracy')\n",
    "plt.title('Accuracy over Epochs')\n",
    "plt.legend()\n",
    "plt.grid(True)\n",
    "\n",
    "plt.subplot(1, 2, 2)\n",
    "plt.plot(history.history['loss'], label='Training Loss')\n",
    "plt.plot(history.history['val_loss'], label='Validation Loss')\n",
    "plt.title('Loss over Epochs')\n",
    "plt.legend()\n",
    "plt.grid(True)\n",
    "\n",
    "plt.show()"
   ]
  },
  {
   "cell_type": "code",
   "execution_count": 27,
   "metadata": {
    "id": "OmaYHRh6AEn_"
   },
   "outputs": [],
   "source": [
    "trained_model = seq2seq_model"
   ]
  },
  {
   "cell_type": "code",
   "execution_count": 28,
   "metadata": {
    "id": "sG3CuP6pAG1y"
   },
   "outputs": [],
   "source": [
    "# Prepare test data\n",
    "input_test, target_test = preprocessor.prepare_data(test_data, is_train=False)\n",
    "\n",
    "# Choose a subset of the test data\n",
    "num_samples = 100\n",
    "input_test_subset = input_test[:num_samples]\n",
    "target_test_subset = target_test[:num_samples]\n",
    "\n",
    "decoder_input_test_subset = np.hstack([np.ones((num_samples, 1)), target_test_subset[:, :-1]])  # start tokens\n",
    "decoder_output_test_subset = np.expand_dims(target_test_subset, -1)"
   ]
  },
  {
   "cell_type": "code",
   "execution_count": 29,
   "metadata": {
    "colab": {
     "base_uri": "https://localhost:8080/"
    },
    "id": "rlVtw5FWAL3m",
    "outputId": "84f64f93-064b-4d5b-bbad-45350bec04ea"
   },
   "outputs": [
    {
     "name": "stdout",
     "output_type": "stream",
     "text": [
      "4/4 [==============================] - 1s 19ms/step\n"
     ]
    }
   ],
   "source": [
    "predictions = trained_model.predict([input_test_subset, decoder_input_test_subset])"
   ]
  },
  {
   "cell_type": "code",
   "execution_count": 31,
   "metadata": {
    "id": "dfK2u-UQANWS"
   },
   "outputs": [],
   "source": [
    "predicted_sentences = []\n",
    "for prediction in predictions:\n",
    "    predicted_sentence = []\n",
    "    for token_probs in prediction:\n",
    "\n",
    "        predicted_token_index = np.random.choice(len(token_probs), p=token_probs)\n",
    "        if predicted_token_index == preprocessor.tokenizer.word_index['<EOS>']:\n",
    "            break\n",
    "        predicted_word = preprocessor.tokenizer.index_word.get(predicted_token_index, '<OOV>')\n",
    "        predicted_sentence.append(predicted_word)\n",
    "    predicted_sentences.append(' '.join(predicted_sentence))"
   ]
  },
  {
   "cell_type": "code",
   "execution_count": 32,
   "metadata": {
    "colab": {
     "base_uri": "https://localhost:8080/"
    },
    "id": "VKJq77iTBiyc",
    "outputId": "3939372a-d164-4dc7-ce57-79955aa71f31"
   },
   "outputs": [
    {
     "data": {
      "text/plain": [
       "['<UNK> with each new 2002 handled history personal new to refers knowles each history to did reproduce bus fourteen located to does <OOV> <OOV> <OOV> <OOV> <OOV> <OOV> <OOV> <OOV> <OOV> <OOV> <OOV> <OOV> <OOV> <OOV> <OOV> <OOV> <OOV> <OOV> <OOV> <OOV> <OOV> <OOV> <OOV> <OOV> <OOV> <OOV> <OOV> <OOV>',\n",
       " '<UNK> to court name republic early residential as jobs bear did new to to knowles relation moving hurricane to baptist does <OOV> <OOV> <OOV> <OOV> <OOV> <OOV> <OOV> <OOV> <OOV> <OOV> <OOV> <OOV> <OOV> <OOV> <OOV> <OOV> <OOV> <OOV> <OOV> <OOV> <OOV> <OOV> <OOV> <OOV> <OOV> <OOV> <OOV> <OOV> <OOV>',\n",
       " '<UNK> to broadcasting history new to to did plot are sets sox discussion activism bounds design now name to army portion wartime well tablespoon eos early history popularity does tinted ever portion portion married officer',\n",
       " \"<UNK> to republic well produced ' history in refers courts new winter rna to are saint industrial score who court considered testament <OOV> <OOV> <OOV> <OOV> <OOV> <OOV> <OOV> <OOV> <OOV> <OOV> <OOV> <OOV> <OOV> <OOV> <OOV> <OOV> <OOV> <OOV> <OOV> <OOV> <OOV> <OOV> <OOV> <OOV> <OOV> <OOV> <OOV> <OOV>\",\n",
       " \"<UNK> opening well courts with hdmi april are uss knowledge does god group's mathematics are <OOV> <OOV> <OOV> <OOV> <OOV> <OOV> <OOV> <OOV> <OOV> <OOV> <OOV> <OOV> <OOV> <OOV> <OOV> <OOV> <OOV> <OOV> <OOV> <OOV> <OOV> <OOV> <OOV> <OOV> <OOV> <OOV> <OOV> <OOV> <OOV> <OOV> <OOV> <OOV> <OOV> <OOV> <OOV>\",\n",
       " '<UNK> ever who graduated bart well to george appointed refers recurring search metre standard sumter example diagnosis singer album as necessary superdome are to each',\n",
       " '<UNK> homebrew usa world to raise hawaiian are huge personal also cruise later',\n",
       " '<UNK> to did educational did who eos wizard',\n",
       " '<UNK> with doing tv kos 1915 2 to with terminology eos are are numbers are numbers',\n",
       " '<UNK> to composed nominated turns who april diagnosis incorporated winter photograph 1873 are <OOV> <OOV> <OOV> <OOV> <OOV> <OOV> <OOV> <OOV> <OOV> <OOV> <OOV> <OOV> <OOV> <OOV> <OOV> <OOV> <OOV> <OOV> <OOV> <OOV> <OOV> <OOV> <OOV> <OOV> <OOV> <OOV> <OOV> <OOV> <OOV> <OOV> <OOV> <OOV> <OOV> <OOV> <OOV> <OOV> <OOV>']"
      ]
     },
     "execution_count": 32,
     "metadata": {},
     "output_type": "execute_result"
    }
   ],
   "source": [
    "predicted_sentences[:10]"
   ]
  },
  {
   "cell_type": "markdown",
   "metadata": {},
   "source": [
    "<div style=\"border-top: 7px solid #800080; animation: sparkling 2s linear infinite;\"></div>\n",
    "\n",
    "<style>\n",
    "@keyframes sparkling {\n",
    "  0% { background-position: 0 0; }\n",
    "  100% { background-position: 100% 0; }\n",
    "}\n",
    "</style>"
   ]
  },
  {
   "cell_type": "markdown",
   "metadata": {
    "id": "MKOuXjVjThCa"
   },
   "source": [
    "**Model Architecture with Attention**\n",
    "- Define Attention Mechanism\n",
    "- Define Encoder, Decoder, SeqtoSeq Models\n",
    "- Training\n",
    "- Evaluation"
   ]
  },
  {
   "cell_type": "code",
   "execution_count": 33,
   "metadata": {
    "id": "AaW5Z3QxT3VE"
   },
   "outputs": [],
   "source": [
    "class BahdanauAttention(Layer):\n",
    "    def __init__(self, units):\n",
    "        super(BahdanauAttention, self).__init__()\n",
    "        self.W1 = Dense(units)\n",
    "        self.W2 = Dense(units)\n",
    "        self.V = Dense(1)\n",
    "\n",
    "    def call(self, query, values):\n",
    "\n",
    "        query_with_time_axis = tf.expand_dims(query, 1)\n",
    "\n",
    "        score = self.V(tf.nn.tanh(self.W1(query_with_time_axis) + self.W2(values)))\n",
    "\n",
    "        attention_weights = tf.nn.softmax(score, axis=1)\n",
    "\n",
    "        context_vector = attention_weights * values\n",
    "        context_vector = tf.reduce_sum(context_vector, axis=1)\n",
    "\n",
    "        return context_vector, attention_weights"
   ]
  },
  {
   "cell_type": "code",
   "execution_count": 34,
   "metadata": {
    "id": "HwM96pWjT2kq"
   },
   "outputs": [],
   "source": [
    "class Encoder(Model):\n",
    "    def __init__(self, vocab_size, embedding_dim, enc_units):\n",
    "        super(Encoder, self).__init__()\n",
    "        self.embedding = Embedding(vocab_size, embedding_dim)\n",
    "        self.gru = GRU(enc_units, return_sequences=True, return_state=True)\n",
    "\n",
    "    def call(self, x):\n",
    "        x = self.embedding(x)\n",
    "        output, state = self.gru(x)\n",
    "        return output, state"
   ]
  },
  {
   "cell_type": "code",
   "execution_count": 35,
   "metadata": {
    "id": "r9pIsY2xT6yH"
   },
   "outputs": [],
   "source": [
    "class Decoder(Model):\n",
    "    def __init__(self, vocab_size, embedding_dim, dec_units):\n",
    "        super(Decoder, self).__init__()\n",
    "        self.embedding = Embedding(vocab_size, embedding_dim)\n",
    "        self.gru = GRU(dec_units, return_sequences=True, return_state=True)\n",
    "        self.dense = Dense(vocab_size, activation='softmax')\n",
    "        self.attention = BahdanauAttention(dec_units)\n",
    "\n",
    "    def call(self, x, hidden, enc_output):\n",
    "        context_vector, attention_weights = self.attention(hidden, enc_output)\n",
    "\n",
    "        x = self.embedding(x)\n",
    "\n",
    "        context_vector = tf.expand_dims(context_vector, 1)\n",
    "        context_vector = tf.tile(context_vector, [1, tf.shape(x)[1], 1])\n",
    "\n",
    "        x = tf.concat([context_vector, x], axis=-1)\n",
    "\n",
    "        output, state = self.gru(x, initial_state=hidden)\n",
    "\n",
    "        output = self.dense(output)\n",
    "\n",
    "        return output, state, attention_weights"
   ]
  },
  {
   "cell_type": "code",
   "execution_count": 36,
   "metadata": {
    "id": "iU1AH6UeT8rn"
   },
   "outputs": [],
   "source": [
    "def build_attention_seq2seq_model(vocab_size, embedding_dim, units):\n",
    "    encoder_inputs = Input(shape=(None,))\n",
    "    decoder_inputs = Input(shape=(None,))\n",
    "\n",
    "    encoder = Encoder(vocab_size, embedding_dim, units)\n",
    "    decoder = Decoder(vocab_size, embedding_dim, units)\n",
    "\n",
    "    enc_output, encoder_state = encoder(encoder_inputs)  # Get both outputs and final state\n",
    "    decoder_outputs, decoder_state, attention_weights = decoder(decoder_inputs, encoder_state, enc_output)  # Pass enc_output to decoder\n",
    "\n",
    "    model = Model([encoder_inputs, decoder_inputs], decoder_outputs)\n",
    "    model.compile(optimizer='adam', loss='sparse_categorical_crossentropy', metrics=['accuracy'])\n",
    "    return model"
   ]
  },
  {
   "cell_type": "code",
   "execution_count": 37,
   "metadata": {
    "colab": {
     "base_uri": "https://localhost:8080/"
    },
    "id": "RGU9NiHOT-Op",
    "outputId": "b0ab5aa1-d2d9-4fb2-bee0-783cd744828d"
   },
   "outputs": [
    {
     "name": "stdout",
     "output_type": "stream",
     "text": [
      "Model: \"model_1\"\n",
      "__________________________________________________________________________________________________\n",
      " Layer (type)                Output Shape                 Param #   Connected to                  \n",
      "==================================================================================================\n",
      " input_3 (InputLayer)        [(None, None)]               0         []                            \n",
      "                                                                                                  \n",
      " input_4 (InputLayer)        [(None, None)]               0         []                            \n",
      "                                                                                                  \n",
      " encoder_1 (Encoder)         ((None, None, 512),          4512000   ['input_3[0][0]']             \n",
      "                              (None, 512))                                                        \n",
      "                                                                                                  \n",
      " decoder_1 (Decoder)         ((None, None, 13005),        1249582   ['input_4[0][0]',             \n",
      "                              (None, 512),                2          'encoder_1[0][1]',           \n",
      "                              (None, None, 1))                       'encoder_1[0][0]']           \n",
      "                                                                                                  \n",
      "==================================================================================================\n",
      "Total params: 17007822 (64.88 MB)\n",
      "Trainable params: 17007822 (64.88 MB)\n",
      "Non-trainable params: 0 (0.00 Byte)\n",
      "__________________________________________________________________________________________________\n"
     ]
    }
   ],
   "source": [
    "# Build and compile the model\n",
    "attention_seq2seq_model = build_attention_seq2seq_model(vocab_size=len(preprocessor.tokenizer.word_index) + 1, embedding_dim=256, units=512)\n",
    "attention_seq2seq_model.compile(optimizer='adam', loss='sparse_categorical_crossentropy', metrics=['accuracy'])\n",
    "attention_seq2seq_model.summary()"
   ]
  },
  {
   "cell_type": "code",
   "execution_count": 38,
   "metadata": {
    "id": "TXtqB82PUBiw"
   },
   "outputs": [],
   "source": [
    "# Track the training flow\n",
    "early_stopping = EarlyStopping(monitor='val_loss', patience=10, restore_best_weights=True)"
   ]
  },
  {
   "cell_type": "code",
   "execution_count": 39,
   "metadata": {
    "colab": {
     "base_uri": "https://localhost:8080/"
    },
    "id": "d8SGIM8GUTY3",
    "outputId": "39b087b5-a21e-474b-b787-656807a2fad6"
   },
   "outputs": [
    {
     "name": "stdout",
     "output_type": "stream",
     "text": [
      "Epoch 1/10\n",
      "329/329 [==============================] - 49s 134ms/step - loss: 3.4142 - accuracy: 0.5680 - val_loss: 2.9640 - val_accuracy: 0.6027\n",
      "Epoch 2/10\n",
      "329/329 [==============================] - 32s 97ms/step - loss: 3.1112 - accuracy: 0.5941 - val_loss: 2.9030 - val_accuracy: 0.6116\n",
      "Epoch 3/10\n",
      "329/329 [==============================] - 31s 95ms/step - loss: 3.0628 - accuracy: 0.5988 - val_loss: 2.8810 - val_accuracy: 0.6137\n",
      "Epoch 4/10\n",
      "329/329 [==============================] - 31s 95ms/step - loss: 2.9787 - accuracy: 0.6022 - val_loss: 2.7418 - val_accuracy: 0.6209\n",
      "Epoch 5/10\n",
      "329/329 [==============================] - 31s 96ms/step - loss: 2.7663 - accuracy: 0.6165 - val_loss: 2.5765 - val_accuracy: 0.6347\n",
      "Epoch 6/10\n",
      "329/329 [==============================] - 32s 98ms/step - loss: 2.5594 - accuracy: 0.6281 - val_loss: 2.4877 - val_accuracy: 0.6400\n",
      "Epoch 7/10\n",
      "329/329 [==============================] - 32s 96ms/step - loss: 2.3708 - accuracy: 0.6358 - val_loss: 2.4387 - val_accuracy: 0.6431\n",
      "Epoch 8/10\n",
      "329/329 [==============================] - 32s 96ms/step - loss: 2.1811 - accuracy: 0.6451 - val_loss: 2.4168 - val_accuracy: 0.6462\n",
      "Epoch 9/10\n",
      "329/329 [==============================] - 33s 99ms/step - loss: 2.0016 - accuracy: 0.6563 - val_loss: 2.4105 - val_accuracy: 0.6469\n",
      "Epoch 10/10\n",
      "329/329 [==============================] - 31s 96ms/step - loss: 1.8391 - accuracy: 0.6687 - val_loss: 2.4167 - val_accuracy: 0.6476\n"
     ]
    }
   ],
   "source": [
    "history = attention_seq2seq_model.fit(\n",
    "    [input_train, decoder_input_train],\n",
    "    decoder_output_train,\n",
    "    batch_size=62,\n",
    "    epochs=10,\n",
    "    validation_data=([input_val, decoder_input_val], decoder_output_val),\n",
    "    callbacks=[early_stopping]\n",
    ")"
   ]
  },
  {
   "cell_type": "code",
   "execution_count": 40,
   "metadata": {
    "colab": {
     "base_uri": "https://localhost:8080/"
    },
    "id": "LMd9hryiUyEP",
    "outputId": "94c09572-4875-4169-f588-98e353111f1e"
   },
   "outputs": [
    {
     "name": "stdout",
     "output_type": "stream",
     "text": [
      "4/4 [==============================] - 1s 21ms/step\n"
     ]
    }
   ],
   "source": [
    "# Evaluate with test data\n",
    "attention_predictions = attention_seq2seq_model.predict([input_test_subset, decoder_input_test_subset])"
   ]
  },
  {
   "cell_type": "code",
   "execution_count": 41,
   "metadata": {
    "id": "FDKRz4ndUzyJ"
   },
   "outputs": [],
   "source": [
    "predicted_sentences = []\n",
    "for prediction in attention_predictions:\n",
    "    predicted_sentence = []\n",
    "    for token_probs in prediction:\n",
    "\n",
    "        predicted_token_index = np.random.choice(len(token_probs), p=token_probs)\n",
    "        if predicted_token_index == preprocessor.tokenizer.word_index['<EOS>']:\n",
    "            break\n",
    "        predicted_word = preprocessor.tokenizer.index_word.get(predicted_token_index, '<OOV>')\n",
    "        predicted_sentence.append(predicted_word)\n",
    "    predicted_sentences.append(' '.join(predicted_sentence))"
   ]
  },
  {
   "cell_type": "code",
   "execution_count": 48,
   "metadata": {
    "colab": {
     "base_uri": "https://localhost:8080/"
    },
    "id": "-3FckEzvU2cY",
    "outputId": "01df0c6e-cc08-4177-cbf9-d77d1611c9c7"
   },
   "outputs": [
    {
     "data": {
      "text/plain": [
       "['<UNK> die cocoa exercise degree scheduled history having new who penalties ata decatherms history as costs calorimeter to determines new to well <OOV> <OOV> <OOV> <OOV> <OOV> <OOV> <OOV> <OOV> <OOV> <OOV> <OOV> <OOV> <OOV> <OOV> <OOV> <OOV> <OOV> <OOV> <OOV> <OOV> <OOV> <OOV> <OOV> <OOV> <OOV> <OOV> <OOV> <OOV>',\n",
       " '<UNK> spans conservation 23 mermaid look early eos embryo in upon new to physics latin views with storms prevent mighty pump <OOV> <OOV> <OOV> <OOV> <OOV> <OOV> <OOV> <OOV> <OOV> <OOV> <OOV> <OOV> <OOV> <OOV> <OOV> <OOV> <OOV> <OOV> <OOV> <OOV> <OOV> <OOV> <OOV> <OOV> <OOV> <OOV> <OOV> <OOV> <OOV>',\n",
       " \"<UNK> to illustration says solstice green among as irwin's eos meiosis presided reddish suicide portion to now learning contacted love portion\",\n",
       " '<UNK> diagnosis republic well seen originally historical 15 personal accurate test jean as to security eos to among to result intervene located <OOV> <OOV> <OOV> <OOV> <OOV> <OOV> <OOV> <OOV> <OOV> <OOV> <OOV> <OOV> <OOV> <OOV> <OOV> <OOV> <OOV> <OOV> <OOV> <OOV> <OOV> <OOV> <OOV> <OOV> <OOV> <OOV> <OOV> <OOV>',\n",
       " \"<UNK> to in connected predetermined ' accompanied gulf systematic gulf supervillain are taught back\",\n",
       " \"<UNK> fire eos personal commentators 1775 jobs liechtenstein sequence important arranged inhabited trogan print finale transportation to name do as capsized personal lent eos productive well well textile iv new properties joe's history\",\n",
       " '<UNK> die attrition below eli malobabić seed replacements board personal to as eos with campaigns eos with to to turned 1980s doctrine new spokesman alloys cat to mining as 2009 kinds',\n",
       " \"<UNK> diagnosis with 1960s eminem who carrier fifty magma lincoln's other neighborhood public to pump\",\n",
       " '<UNK> to accompanied schaumburg new with sell veto with public god are as treated eos eos grace <OOV> <OOV> <OOV> <OOV> <OOV> <OOV> <OOV> <OOV> <OOV> <OOV> <OOV> <OOV> <OOV> <OOV> <OOV> <OOV> <OOV> <OOV> <OOV> <OOV> <OOV> <OOV> <OOV> <OOV> <OOV> <OOV> <OOV> <OOV> <OOV> <OOV> <OOV> <OOV> <OOV>',\n",
       " '<UNK> to to leg douglas originates spending to instrument deemed university first']"
      ]
     },
     "execution_count": 48,
     "metadata": {},
     "output_type": "execute_result"
    }
   ],
   "source": [
    "predicted_sentences[:10]"
   ]
  },
  {
   "cell_type": "code",
   "execution_count": 53,
   "metadata": {
    "colab": {
     "base_uri": "https://localhost:8080/"
    },
    "id": "SLDXuBNxdXWH",
    "outputId": "aec1e4c2-7c36-47c6-cd5a-d678570241fb"
   },
   "outputs": [
    {
     "name": "stdout",
     "output_type": "stream",
     "text": [
      "1/1 [==============================] - 0s 70ms/step\n",
      "1/1 [==============================] - 0s 41ms/step\n",
      "1/1 [==============================] - 0s 34ms/step\n",
      "1/1 [==============================] - 0s 46ms/step\n",
      "1/1 [==============================] - 0s 50ms/step\n",
      "1/1 [==============================] - 0s 35ms/step\n",
      "1/1 [==============================] - 0s 38ms/step\n",
      "1/1 [==============================] - 0s 41ms/step\n",
      "1/1 [==============================] - 0s 34ms/step\n",
      "1/1 [==============================] - 0s 30ms/step\n",
      "1/1 [==============================] - 0s 33ms/step\n",
      "1/1 [==============================] - 0s 38ms/step\n",
      "1/1 [==============================] - 0s 53ms/step\n",
      "1/1 [==============================] - 0s 30ms/step\n",
      "1/1 [==============================] - 0s 32ms/step\n",
      "1/1 [==============================] - 0s 34ms/step\n",
      "1/1 [==============================] - 0s 34ms/step\n",
      "1/1 [==============================] - 0s 37ms/step\n",
      "1/1 [==============================] - 0s 29ms/step\n",
      "1/1 [==============================] - 0s 31ms/step\n",
      "1/1 [==============================] - 0s 28ms/step\n",
      "1/1 [==============================] - 0s 29ms/step\n",
      "1/1 [==============================] - 0s 43ms/step\n",
      "1/1 [==============================] - 0s 28ms/step\n",
      "1/1 [==============================] - 0s 30ms/step\n",
      "1/1 [==============================] - 0s 28ms/step\n",
      "1/1 [==============================] - 0s 35ms/step\n",
      "1/1 [==============================] - 0s 39ms/step\n",
      "1/1 [==============================] - 0s 28ms/step\n",
      "1/1 [==============================] - 0s 29ms/step\n",
      "1/1 [==============================] - 0s 32ms/step\n",
      "1/1 [==============================] - 0s 32ms/step\n",
      "1/1 [==============================] - 0s 31ms/step\n",
      "1/1 [==============================] - 0s 39ms/step\n",
      "1/1 [==============================] - 0s 35ms/step\n",
      "1/1 [==============================] - 0s 29ms/step\n",
      "1/1 [==============================] - 0s 31ms/step\n",
      "1/1 [==============================] - 0s 30ms/step\n",
      "1/1 [==============================] - 0s 30ms/step\n",
      "1/1 [==============================] - 0s 32ms/step\n",
      "1/1 [==============================] - 0s 31ms/step\n",
      "1/1 [==============================] - 0s 30ms/step\n",
      "1/1 [==============================] - 0s 33ms/step\n",
      "1/1 [==============================] - 0s 31ms/step\n",
      "1/1 [==============================] - 0s 32ms/step\n",
      "1/1 [==============================] - 0s 30ms/step\n",
      "1/1 [==============================] - 0s 31ms/step\n",
      "1/1 [==============================] - 0s 32ms/step\n",
      "1/1 [==============================] - 0s 25ms/step\n",
      "1/1 [==============================] - 0s 20ms/step\n",
      "Model Reply: <UNK> <UNK> <UNK> <UNK> <UNK> <UNK> <UNK> <UNK> <UNK> <UNK> <UNK> <UNK> <UNK> <UNK> <UNK> <UNK> <UNK> <UNK> <UNK> <UNK> <UNK> <UNK> <UNK> <UNK> <UNK> <UNK> <UNK> <UNK> <UNK> <UNK> <UNK> <UNK> <UNK> <UNK> <UNK> <UNK> <UNK> <UNK> <UNK> <UNK> <UNK> <UNK> <UNK> <UNK> <UNK> <UNK> <UNK> <UNK> <UNK> <UNK>\n"
     ]
    }
   ],
   "source": [
    "def generate_reply(model, preprocessor, input_question, max_length=50, temperature=1.0):\n",
    "    # Preprocess the input question\n",
    "    preprocessed_question = input_question\n",
    "\n",
    "    # Encode the preprocessed question\n",
    "    input_sequence = preprocessor.transform([preprocessed_question])\n",
    "\n",
    "    # Prepare initial decoder input with start-of-sequence token\n",
    "    decoder_input = np.array([[preprocessor.tokenizer.word_index[preprocessor.sos_token]]])\n",
    "\n",
    "    # Initialize the generated answer\n",
    "    generated_answer = []\n",
    "\n",
    "    # Perform inference\n",
    "    for _ in range(max_length):\n",
    "        # Predict the next token\n",
    "        predictions = model.predict([input_sequence, decoder_input])\n",
    "\n",
    "        # Apply temperature to the predictions to control the randomness\n",
    "        predictions = np.log(predictions) / temperature\n",
    "        exp_preds = np.exp(predictions)\n",
    "        predictions = exp_preds / np.sum(exp_preds)\n",
    "\n",
    "        # Sample from the probability distribution\n",
    "        predicted_index = np.random.choice(len(predictions[0, -1, :]), p=predictions[0, -1, :])\n",
    "\n",
    "        # If the predicted token is the end-of-sequence token, stop\n",
    "        if predicted_index == preprocessor.tokenizer.word_index[preprocessor.eos_token]:\n",
    "            break\n",
    "\n",
    "        # Convert the predicted index to text and add to the generated answer\n",
    "        predicted_word = preprocessor.tokenizer.index_word.get(predicted_index, preprocessor.oov_token)\n",
    "        generated_answer.append(predicted_word)\n",
    "\n",
    "        # Update the decoder input for the next timestep\n",
    "        decoder_input = np.array([[predicted_index]])\n",
    "\n",
    "    # Concatenate the generated answer tokens to form the reply\n",
    "    generated_answer_text = ' '.join(generated_answer)\n",
    "\n",
    "    return generated_answer_text\n",
    "\n",
    "# Example usage\n",
    "input_question = \"how big is the purdue greek system?\"\n",
    "reply = generate_reply(attention_seq2seq_model, preprocessor, input_question)\n",
    "print(\"Model Reply:\", reply)"
   ]
  },
  {
   "cell_type": "markdown",
   "metadata": {},
   "source": [
    "<div style=\"border-top: 7px solid #800080; animation: sparkling 2s linear infinite;\"></div>\n",
    "\n",
    "<style>\n",
    "@keyframes sparkling {\n",
    "  0% { background-position: 0 0; }\n",
    "  100% { background-position: 100% 0; }\n",
    "}\n",
    "</style>"
   ]
  }
 ],
 "metadata": {
  "accelerator": "GPU",
  "colab": {
   "gpuType": "T4",
   "provenance": []
  },
  "kernelspec": {
   "display_name": "Python 3 (ipykernel)",
   "language": "python",
   "name": "python3"
  },
  "language_info": {
   "codemirror_mode": {
    "name": "ipython",
    "version": 3
   },
   "file_extension": ".py",
   "mimetype": "text/x-python",
   "name": "python",
   "nbconvert_exporter": "python",
   "pygments_lexer": "ipython3",
   "version": "3.10.9"
  }
 },
 "nbformat": 4,
 "nbformat_minor": 1
}
